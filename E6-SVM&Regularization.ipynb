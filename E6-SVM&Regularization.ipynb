{
 "cells": [
  {
   "cell_type": "markdown",
   "metadata": {},
   "source": [
    "# Exercise 6\n",
    "\n",
    "## SVM & Regularization\n",
    "\n",
    "\n",
    "For this homework we consider a set of observations on a number of red and white wine varieties involving their chemical properties and ranking by tasters. Wine industry shows a recent growth spurt as social drinking is on the rise. The price of wine depends on a rather abstract concept of wine appreciation by wine tasters, opinion among whom may have a high degree of variability. Pricing of wine depends on such a volatile factor to some extent. Another key factor in wine certification and quality assessment is physicochemical tests which are laboratory-based and takes into account factors like acidity, pH level, presence of sugar and other chemical properties. For the wine market, it would be of interest if human quality of tasting can be related to the chemical properties of wine so that certification and quality assessment and assurance process is more controlled.\n",
    "\n",
    "Two datasets are available of which one dataset is on red wine and have 1599 different varieties and the other is on white wine and have 4898 varieties. All wines are produced in a particular area of Portugal. Data are collected on 12 different properties of the wines one of which is Quality, based on sensory data, and the rest are on chemical properties of the wines including density, acidity, alcohol content etc. All chemical properties of wines are continuous variables. Quality is an ordinal variable with possible ranking from 1 (worst) to 10 (best). Each variety of wine is tasted by three independent tasters and the final rank assigned is the median rank given by the tasters.\n",
    "\n",
    "A predictive model developed on this data is expected to provide guidance to vineyards regarding quality and price expected on their produce without heavy reliance on volatility of wine tasters."
   ]
  },
  {
   "cell_type": "code",
   "execution_count": 1,
   "metadata": {},
   "outputs": [],
   "source": [
    "import pandas as pd\n",
    "import numpy as np"
   ]
  },
  {
   "cell_type": "code",
   "execution_count": 2,
   "metadata": {},
   "outputs": [],
   "source": [
    "data_r = pd.read_csv('https://github.com/albahnsen/PracticalMachineLearningClass/raw/master/datasets/Wine_data_red.csv')\n",
    "data_w = pd.read_csv('https://github.com/albahnsen/PracticalMachineLearningClass/raw/master/datasets/Wine_data_white.csv')"
   ]
  },
  {
   "cell_type": "code",
   "execution_count": 3,
   "metadata": {},
   "outputs": [
    {
     "data": {
      "text/html": [
       "<div>\n",
       "<style scoped>\n",
       "    .dataframe tbody tr th:only-of-type {\n",
       "        vertical-align: middle;\n",
       "    }\n",
       "\n",
       "    .dataframe tbody tr th {\n",
       "        vertical-align: top;\n",
       "    }\n",
       "\n",
       "    .dataframe thead th {\n",
       "        text-align: right;\n",
       "    }\n",
       "</style>\n",
       "<table border=\"1\" class=\"dataframe\">\n",
       "  <thead>\n",
       "    <tr style=\"text-align: right;\">\n",
       "      <th></th>\n",
       "      <th>fixed acidity</th>\n",
       "      <th>volatile acidity</th>\n",
       "      <th>citric acid</th>\n",
       "      <th>residual sugar</th>\n",
       "      <th>chlorides</th>\n",
       "      <th>free sulfur dioxide</th>\n",
       "      <th>total sulfur dioxide</th>\n",
       "      <th>density</th>\n",
       "      <th>pH</th>\n",
       "      <th>sulphates</th>\n",
       "      <th>alcohol</th>\n",
       "      <th>quality</th>\n",
       "      <th>type</th>\n",
       "    </tr>\n",
       "  </thead>\n",
       "  <tbody>\n",
       "    <tr>\n",
       "      <th>4270</th>\n",
       "      <td>6.6</td>\n",
       "      <td>0.21</td>\n",
       "      <td>0.3</td>\n",
       "      <td>9.9</td>\n",
       "      <td>0.041</td>\n",
       "      <td>64.0</td>\n",
       "      <td>174.0</td>\n",
       "      <td>0.995</td>\n",
       "      <td>3.07</td>\n",
       "      <td>0.5</td>\n",
       "      <td>10.1</td>\n",
       "      <td>6</td>\n",
       "      <td>white</td>\n",
       "    </tr>\n",
       "  </tbody>\n",
       "</table>\n",
       "</div>"
      ],
      "text/plain": [
       "      fixed acidity  volatile acidity  citric acid  residual sugar  chlorides  \\\n",
       "4270            6.6              0.21          0.3             9.9      0.041   \n",
       "\n",
       "      free sulfur dioxide  total sulfur dioxide  density    pH  sulphates  \\\n",
       "4270                 64.0                 174.0    0.995  3.07        0.5   \n",
       "\n",
       "      alcohol  quality   type  \n",
       "4270     10.1        6  white  "
      ]
     },
     "execution_count": 3,
     "metadata": {},
     "output_type": "execute_result"
    }
   ],
   "source": [
    "data = data_w.assign(type = 'white')\n",
    "\n",
    "data = data.append(data_r.assign(type = 'red'), ignore_index=True)\n",
    "data.sample()"
   ]
  },
  {
   "cell_type": "markdown",
   "metadata": {},
   "source": [
    "# Exercise 6.1\n",
    "\n",
    "Show the frecuency table of the quality by type of wine"
   ]
  },
  {
   "cell_type": "code",
   "execution_count": 4,
   "metadata": {},
   "outputs": [
    {
     "data": {
      "text/html": [
       "<div>\n",
       "<style scoped>\n",
       "    .dataframe tbody tr th:only-of-type {\n",
       "        vertical-align: middle;\n",
       "    }\n",
       "\n",
       "    .dataframe tbody tr th {\n",
       "        vertical-align: top;\n",
       "    }\n",
       "\n",
       "    .dataframe thead th {\n",
       "        text-align: right;\n",
       "    }\n",
       "</style>\n",
       "<table border=\"1\" class=\"dataframe\">\n",
       "  <thead>\n",
       "    <tr style=\"text-align: right;\">\n",
       "      <th>quality</th>\n",
       "      <th>3</th>\n",
       "      <th>4</th>\n",
       "      <th>5</th>\n",
       "      <th>6</th>\n",
       "      <th>7</th>\n",
       "      <th>8</th>\n",
       "      <th>9</th>\n",
       "    </tr>\n",
       "    <tr>\n",
       "      <th>type</th>\n",
       "      <th></th>\n",
       "      <th></th>\n",
       "      <th></th>\n",
       "      <th></th>\n",
       "      <th></th>\n",
       "      <th></th>\n",
       "      <th></th>\n",
       "    </tr>\n",
       "  </thead>\n",
       "  <tbody>\n",
       "    <tr>\n",
       "      <th>red</th>\n",
       "      <td>10</td>\n",
       "      <td>53</td>\n",
       "      <td>681</td>\n",
       "      <td>638</td>\n",
       "      <td>199</td>\n",
       "      <td>18</td>\n",
       "      <td>0</td>\n",
       "    </tr>\n",
       "    <tr>\n",
       "      <th>white</th>\n",
       "      <td>20</td>\n",
       "      <td>163</td>\n",
       "      <td>1457</td>\n",
       "      <td>2198</td>\n",
       "      <td>880</td>\n",
       "      <td>175</td>\n",
       "      <td>5</td>\n",
       "    </tr>\n",
       "  </tbody>\n",
       "</table>\n",
       "</div>"
      ],
      "text/plain": [
       "quality   3    4     5     6    7    8  9\n",
       "type                                     \n",
       "red      10   53   681   638  199   18  0\n",
       "white    20  163  1457  2198  880  175  5"
      ]
     },
     "execution_count": 4,
     "metadata": {},
     "output_type": "execute_result"
    }
   ],
   "source": [
    "pd.crosstab(index=data[\"type\"],columns=data[\"quality\"])"
   ]
  },
  {
   "cell_type": "markdown",
   "metadata": {},
   "source": [
    "# SVM"
   ]
  },
  {
   "cell_type": "markdown",
   "metadata": {},
   "source": [
    "# Exercise 6.2\n",
    "\n",
    "* Standarized the features (not the quality)\n",
    "* Create a binary target for each type of wine\n",
    "* Create two Linear SVM's for the white and red wines, repectively.\n"
   ]
  },
  {
   "cell_type": "code",
   "execution_count": 5,
   "metadata": {},
   "outputs": [],
   "source": [
    "from sklearn import preprocessing"
   ]
  },
  {
   "cell_type": "code",
   "execution_count": 6,
   "metadata": {},
   "outputs": [
    {
     "name": "stdout",
     "output_type": "stream",
     "text": [
      "(6497,)\n"
     ]
    }
   ],
   "source": [
    "print(data['alcohol'].shape)"
   ]
  },
  {
   "cell_type": "code",
   "execution_count": 7,
   "metadata": {},
   "outputs": [
    {
     "data": {
      "text/plain": [
       "Index(['fixed acidity', 'volatile acidity', 'citric acid', 'residual sugar',\n",
       "       'chlorides', 'free sulfur dioxide', 'total sulfur dioxide', 'density',\n",
       "       'pH', 'sulphates', 'alcohol', 'quality', 'type'],\n",
       "      dtype='object')"
      ]
     },
     "execution_count": 7,
     "metadata": {},
     "output_type": "execute_result"
    }
   ],
   "source": [
    "data.columns"
   ]
  },
  {
   "cell_type": "code",
   "execution_count": 8,
   "metadata": {},
   "outputs": [],
   "source": [
    "data_norm = pd.DataFrame(index=data.index)"
   ]
  },
  {
   "cell_type": "code",
   "execution_count": 9,
   "metadata": {},
   "outputs": [],
   "source": [
    "for r in data.loc[:, ~data.columns.isin(['quality', 'type'])].columns:\n",
    "    data_norm[r]=preprocessing.scale(data[r])"
   ]
  },
  {
   "cell_type": "code",
   "execution_count": 10,
   "metadata": {},
   "outputs": [],
   "source": [
    "data_norm[['quality','type']]=data[['quality','type']]"
   ]
  },
  {
   "cell_type": "code",
   "execution_count": 11,
   "metadata": {},
   "outputs": [
    {
     "data": {
      "text/html": [
       "<div>\n",
       "<style scoped>\n",
       "    .dataframe tbody tr th:only-of-type {\n",
       "        vertical-align: middle;\n",
       "    }\n",
       "\n",
       "    .dataframe tbody tr th {\n",
       "        vertical-align: top;\n",
       "    }\n",
       "\n",
       "    .dataframe thead th {\n",
       "        text-align: right;\n",
       "    }\n",
       "</style>\n",
       "<table border=\"1\" class=\"dataframe\">\n",
       "  <thead>\n",
       "    <tr style=\"text-align: right;\">\n",
       "      <th></th>\n",
       "      <th>fixed acidity</th>\n",
       "      <th>volatile acidity</th>\n",
       "      <th>citric acid</th>\n",
       "      <th>residual sugar</th>\n",
       "      <th>chlorides</th>\n",
       "      <th>free sulfur dioxide</th>\n",
       "      <th>total sulfur dioxide</th>\n",
       "      <th>density</th>\n",
       "      <th>pH</th>\n",
       "      <th>sulphates</th>\n",
       "      <th>alcohol</th>\n",
       "      <th>quality</th>\n",
       "      <th>type</th>\n",
       "    </tr>\n",
       "  </thead>\n",
       "  <tbody>\n",
       "    <tr>\n",
       "      <th>0</th>\n",
       "      <td>-0.166089</td>\n",
       "      <td>-0.423183</td>\n",
       "      <td>0.284686</td>\n",
       "      <td>3.206929</td>\n",
       "      <td>-0.314975</td>\n",
       "      <td>0.815565</td>\n",
       "      <td>0.959976</td>\n",
       "      <td>2.102214</td>\n",
       "      <td>-1.359049</td>\n",
       "      <td>-0.546178</td>\n",
       "      <td>-1.418558</td>\n",
       "      <td>6</td>\n",
       "      <td>white</td>\n",
       "    </tr>\n",
       "    <tr>\n",
       "      <th>1</th>\n",
       "      <td>-0.706073</td>\n",
       "      <td>-0.240949</td>\n",
       "      <td>0.147046</td>\n",
       "      <td>-0.807837</td>\n",
       "      <td>-0.200790</td>\n",
       "      <td>-0.931107</td>\n",
       "      <td>0.287618</td>\n",
       "      <td>-0.232332</td>\n",
       "      <td>0.506915</td>\n",
       "      <td>-0.277351</td>\n",
       "      <td>-0.831615</td>\n",
       "      <td>6</td>\n",
       "      <td>white</td>\n",
       "    </tr>\n",
       "    <tr>\n",
       "      <th>2</th>\n",
       "      <td>0.682458</td>\n",
       "      <td>-0.362438</td>\n",
       "      <td>0.559966</td>\n",
       "      <td>0.306208</td>\n",
       "      <td>-0.172244</td>\n",
       "      <td>-0.029599</td>\n",
       "      <td>-0.331660</td>\n",
       "      <td>0.134525</td>\n",
       "      <td>0.258120</td>\n",
       "      <td>-0.613385</td>\n",
       "      <td>-0.328521</td>\n",
       "      <td>6</td>\n",
       "      <td>white</td>\n",
       "    </tr>\n",
       "    <tr>\n",
       "      <th>3</th>\n",
       "      <td>-0.011808</td>\n",
       "      <td>-0.666161</td>\n",
       "      <td>0.009406</td>\n",
       "      <td>0.642523</td>\n",
       "      <td>0.056126</td>\n",
       "      <td>0.928254</td>\n",
       "      <td>1.243074</td>\n",
       "      <td>0.301278</td>\n",
       "      <td>-0.177272</td>\n",
       "      <td>-0.882212</td>\n",
       "      <td>-0.496219</td>\n",
       "      <td>6</td>\n",
       "      <td>white</td>\n",
       "    </tr>\n",
       "    <tr>\n",
       "      <th>4</th>\n",
       "      <td>-0.011808</td>\n",
       "      <td>-0.666161</td>\n",
       "      <td>0.009406</td>\n",
       "      <td>0.642523</td>\n",
       "      <td>0.056126</td>\n",
       "      <td>0.928254</td>\n",
       "      <td>1.243074</td>\n",
       "      <td>0.301278</td>\n",
       "      <td>-0.177272</td>\n",
       "      <td>-0.882212</td>\n",
       "      <td>-0.496219</td>\n",
       "      <td>6</td>\n",
       "      <td>white</td>\n",
       "    </tr>\n",
       "  </tbody>\n",
       "</table>\n",
       "</div>"
      ],
      "text/plain": [
       "   fixed acidity  volatile acidity  citric acid  residual sugar  chlorides  \\\n",
       "0      -0.166089         -0.423183     0.284686        3.206929  -0.314975   \n",
       "1      -0.706073         -0.240949     0.147046       -0.807837  -0.200790   \n",
       "2       0.682458         -0.362438     0.559966        0.306208  -0.172244   \n",
       "3      -0.011808         -0.666161     0.009406        0.642523   0.056126   \n",
       "4      -0.011808         -0.666161     0.009406        0.642523   0.056126   \n",
       "\n",
       "   free sulfur dioxide  total sulfur dioxide   density        pH  sulphates  \\\n",
       "0             0.815565              0.959976  2.102214 -1.359049  -0.546178   \n",
       "1            -0.931107              0.287618 -0.232332  0.506915  -0.277351   \n",
       "2            -0.029599             -0.331660  0.134525  0.258120  -0.613385   \n",
       "3             0.928254              1.243074  0.301278 -0.177272  -0.882212   \n",
       "4             0.928254              1.243074  0.301278 -0.177272  -0.882212   \n",
       "\n",
       "    alcohol  quality   type  \n",
       "0 -1.418558        6  white  \n",
       "1 -0.831615        6  white  \n",
       "2 -0.328521        6  white  \n",
       "3 -0.496219        6  white  \n",
       "4 -0.496219        6  white  "
      ]
     },
     "execution_count": 11,
     "metadata": {},
     "output_type": "execute_result"
    }
   ],
   "source": [
    "data_norm.head(5)"
   ]
  },
  {
   "cell_type": "code",
   "execution_count": 12,
   "metadata": {},
   "outputs": [],
   "source": [
    "data_norm['responce'] = np.where(data_norm['quality']>=7,1,0)\n",
    "data_norm['responce'] = data_norm['responce'].astype(bool)"
   ]
  },
  {
   "cell_type": "code",
   "execution_count": 13,
   "metadata": {},
   "outputs": [
    {
     "data": {
      "text/html": [
       "<div>\n",
       "<style scoped>\n",
       "    .dataframe tbody tr th:only-of-type {\n",
       "        vertical-align: middle;\n",
       "    }\n",
       "\n",
       "    .dataframe tbody tr th {\n",
       "        vertical-align: top;\n",
       "    }\n",
       "\n",
       "    .dataframe thead th {\n",
       "        text-align: right;\n",
       "    }\n",
       "</style>\n",
       "<table border=\"1\" class=\"dataframe\">\n",
       "  <thead>\n",
       "    <tr style=\"text-align: right;\">\n",
       "      <th></th>\n",
       "      <th>fixed acidity</th>\n",
       "      <th>volatile acidity</th>\n",
       "      <th>citric acid</th>\n",
       "      <th>residual sugar</th>\n",
       "      <th>chlorides</th>\n",
       "      <th>free sulfur dioxide</th>\n",
       "      <th>total sulfur dioxide</th>\n",
       "      <th>density</th>\n",
       "      <th>pH</th>\n",
       "      <th>sulphates</th>\n",
       "      <th>alcohol</th>\n",
       "      <th>quality</th>\n",
       "      <th>type</th>\n",
       "      <th>responce</th>\n",
       "    </tr>\n",
       "  </thead>\n",
       "  <tbody>\n",
       "    <tr>\n",
       "      <th>0</th>\n",
       "      <td>-0.166089</td>\n",
       "      <td>-0.423183</td>\n",
       "      <td>0.284686</td>\n",
       "      <td>3.206929</td>\n",
       "      <td>-0.314975</td>\n",
       "      <td>0.815565</td>\n",
       "      <td>0.959976</td>\n",
       "      <td>2.102214</td>\n",
       "      <td>-1.359049</td>\n",
       "      <td>-0.546178</td>\n",
       "      <td>-1.418558</td>\n",
       "      <td>6</td>\n",
       "      <td>white</td>\n",
       "      <td>False</td>\n",
       "    </tr>\n",
       "    <tr>\n",
       "      <th>1</th>\n",
       "      <td>-0.706073</td>\n",
       "      <td>-0.240949</td>\n",
       "      <td>0.147046</td>\n",
       "      <td>-0.807837</td>\n",
       "      <td>-0.200790</td>\n",
       "      <td>-0.931107</td>\n",
       "      <td>0.287618</td>\n",
       "      <td>-0.232332</td>\n",
       "      <td>0.506915</td>\n",
       "      <td>-0.277351</td>\n",
       "      <td>-0.831615</td>\n",
       "      <td>6</td>\n",
       "      <td>white</td>\n",
       "      <td>False</td>\n",
       "    </tr>\n",
       "    <tr>\n",
       "      <th>2</th>\n",
       "      <td>0.682458</td>\n",
       "      <td>-0.362438</td>\n",
       "      <td>0.559966</td>\n",
       "      <td>0.306208</td>\n",
       "      <td>-0.172244</td>\n",
       "      <td>-0.029599</td>\n",
       "      <td>-0.331660</td>\n",
       "      <td>0.134525</td>\n",
       "      <td>0.258120</td>\n",
       "      <td>-0.613385</td>\n",
       "      <td>-0.328521</td>\n",
       "      <td>6</td>\n",
       "      <td>white</td>\n",
       "      <td>False</td>\n",
       "    </tr>\n",
       "    <tr>\n",
       "      <th>3</th>\n",
       "      <td>-0.011808</td>\n",
       "      <td>-0.666161</td>\n",
       "      <td>0.009406</td>\n",
       "      <td>0.642523</td>\n",
       "      <td>0.056126</td>\n",
       "      <td>0.928254</td>\n",
       "      <td>1.243074</td>\n",
       "      <td>0.301278</td>\n",
       "      <td>-0.177272</td>\n",
       "      <td>-0.882212</td>\n",
       "      <td>-0.496219</td>\n",
       "      <td>6</td>\n",
       "      <td>white</td>\n",
       "      <td>False</td>\n",
       "    </tr>\n",
       "    <tr>\n",
       "      <th>4</th>\n",
       "      <td>-0.011808</td>\n",
       "      <td>-0.666161</td>\n",
       "      <td>0.009406</td>\n",
       "      <td>0.642523</td>\n",
       "      <td>0.056126</td>\n",
       "      <td>0.928254</td>\n",
       "      <td>1.243074</td>\n",
       "      <td>0.301278</td>\n",
       "      <td>-0.177272</td>\n",
       "      <td>-0.882212</td>\n",
       "      <td>-0.496219</td>\n",
       "      <td>6</td>\n",
       "      <td>white</td>\n",
       "      <td>False</td>\n",
       "    </tr>\n",
       "  </tbody>\n",
       "</table>\n",
       "</div>"
      ],
      "text/plain": [
       "   fixed acidity  volatile acidity  citric acid  residual sugar  chlorides  \\\n",
       "0      -0.166089         -0.423183     0.284686        3.206929  -0.314975   \n",
       "1      -0.706073         -0.240949     0.147046       -0.807837  -0.200790   \n",
       "2       0.682458         -0.362438     0.559966        0.306208  -0.172244   \n",
       "3      -0.011808         -0.666161     0.009406        0.642523   0.056126   \n",
       "4      -0.011808         -0.666161     0.009406        0.642523   0.056126   \n",
       "\n",
       "   free sulfur dioxide  total sulfur dioxide   density        pH  sulphates  \\\n",
       "0             0.815565              0.959976  2.102214 -1.359049  -0.546178   \n",
       "1            -0.931107              0.287618 -0.232332  0.506915  -0.277351   \n",
       "2            -0.029599             -0.331660  0.134525  0.258120  -0.613385   \n",
       "3             0.928254              1.243074  0.301278 -0.177272  -0.882212   \n",
       "4             0.928254              1.243074  0.301278 -0.177272  -0.882212   \n",
       "\n",
       "    alcohol  quality   type  responce  \n",
       "0 -1.418558        6  white     False  \n",
       "1 -0.831615        6  white     False  \n",
       "2 -0.328521        6  white     False  \n",
       "3 -0.496219        6  white     False  \n",
       "4 -0.496219        6  white     False  "
      ]
     },
     "execution_count": 13,
     "metadata": {},
     "output_type": "execute_result"
    }
   ],
   "source": [
    "data_norm.head(5)"
   ]
  },
  {
   "cell_type": "code",
   "execution_count": 14,
   "metadata": {},
   "outputs": [
    {
     "data": {
      "text/html": [
       "<div>\n",
       "<style scoped>\n",
       "    .dataframe tbody tr th:only-of-type {\n",
       "        vertical-align: middle;\n",
       "    }\n",
       "\n",
       "    .dataframe tbody tr th {\n",
       "        vertical-align: top;\n",
       "    }\n",
       "\n",
       "    .dataframe thead th {\n",
       "        text-align: right;\n",
       "    }\n",
       "</style>\n",
       "<table border=\"1\" class=\"dataframe\">\n",
       "  <thead>\n",
       "    <tr style=\"text-align: right;\">\n",
       "      <th></th>\n",
       "      <th>fixed acidity</th>\n",
       "      <th>volatile acidity</th>\n",
       "      <th>citric acid</th>\n",
       "      <th>residual sugar</th>\n",
       "      <th>chlorides</th>\n",
       "      <th>free sulfur dioxide</th>\n",
       "      <th>total sulfur dioxide</th>\n",
       "      <th>density</th>\n",
       "      <th>pH</th>\n",
       "      <th>sulphates</th>\n",
       "      <th>alcohol</th>\n",
       "      <th>quality</th>\n",
       "      <th>type</th>\n",
       "      <th>responce</th>\n",
       "    </tr>\n",
       "  </thead>\n",
       "  <tbody>\n",
       "    <tr>\n",
       "      <th>0</th>\n",
       "      <td>-0.166089</td>\n",
       "      <td>-0.423183</td>\n",
       "      <td>0.284686</td>\n",
       "      <td>3.206929</td>\n",
       "      <td>-0.314975</td>\n",
       "      <td>0.815565</td>\n",
       "      <td>0.959976</td>\n",
       "      <td>2.102214</td>\n",
       "      <td>-1.359049</td>\n",
       "      <td>-0.546178</td>\n",
       "      <td>-1.418558</td>\n",
       "      <td>6</td>\n",
       "      <td>white</td>\n",
       "      <td>False</td>\n",
       "    </tr>\n",
       "    <tr>\n",
       "      <th>1</th>\n",
       "      <td>-0.706073</td>\n",
       "      <td>-0.240949</td>\n",
       "      <td>0.147046</td>\n",
       "      <td>-0.807837</td>\n",
       "      <td>-0.200790</td>\n",
       "      <td>-0.931107</td>\n",
       "      <td>0.287618</td>\n",
       "      <td>-0.232332</td>\n",
       "      <td>0.506915</td>\n",
       "      <td>-0.277351</td>\n",
       "      <td>-0.831615</td>\n",
       "      <td>6</td>\n",
       "      <td>white</td>\n",
       "      <td>False</td>\n",
       "    </tr>\n",
       "    <tr>\n",
       "      <th>2</th>\n",
       "      <td>0.682458</td>\n",
       "      <td>-0.362438</td>\n",
       "      <td>0.559966</td>\n",
       "      <td>0.306208</td>\n",
       "      <td>-0.172244</td>\n",
       "      <td>-0.029599</td>\n",
       "      <td>-0.331660</td>\n",
       "      <td>0.134525</td>\n",
       "      <td>0.258120</td>\n",
       "      <td>-0.613385</td>\n",
       "      <td>-0.328521</td>\n",
       "      <td>6</td>\n",
       "      <td>white</td>\n",
       "      <td>False</td>\n",
       "    </tr>\n",
       "    <tr>\n",
       "      <th>3</th>\n",
       "      <td>-0.011808</td>\n",
       "      <td>-0.666161</td>\n",
       "      <td>0.009406</td>\n",
       "      <td>0.642523</td>\n",
       "      <td>0.056126</td>\n",
       "      <td>0.928254</td>\n",
       "      <td>1.243074</td>\n",
       "      <td>0.301278</td>\n",
       "      <td>-0.177272</td>\n",
       "      <td>-0.882212</td>\n",
       "      <td>-0.496219</td>\n",
       "      <td>6</td>\n",
       "      <td>white</td>\n",
       "      <td>False</td>\n",
       "    </tr>\n",
       "    <tr>\n",
       "      <th>4</th>\n",
       "      <td>-0.011808</td>\n",
       "      <td>-0.666161</td>\n",
       "      <td>0.009406</td>\n",
       "      <td>0.642523</td>\n",
       "      <td>0.056126</td>\n",
       "      <td>0.928254</td>\n",
       "      <td>1.243074</td>\n",
       "      <td>0.301278</td>\n",
       "      <td>-0.177272</td>\n",
       "      <td>-0.882212</td>\n",
       "      <td>-0.496219</td>\n",
       "      <td>6</td>\n",
       "      <td>white</td>\n",
       "      <td>False</td>\n",
       "    </tr>\n",
       "  </tbody>\n",
       "</table>\n",
       "</div>"
      ],
      "text/plain": [
       "   fixed acidity  volatile acidity  citric acid  residual sugar  chlorides  \\\n",
       "0      -0.166089         -0.423183     0.284686        3.206929  -0.314975   \n",
       "1      -0.706073         -0.240949     0.147046       -0.807837  -0.200790   \n",
       "2       0.682458         -0.362438     0.559966        0.306208  -0.172244   \n",
       "3      -0.011808         -0.666161     0.009406        0.642523   0.056126   \n",
       "4      -0.011808         -0.666161     0.009406        0.642523   0.056126   \n",
       "\n",
       "   free sulfur dioxide  total sulfur dioxide   density        pH  sulphates  \\\n",
       "0             0.815565              0.959976  2.102214 -1.359049  -0.546178   \n",
       "1            -0.931107              0.287618 -0.232332  0.506915  -0.277351   \n",
       "2            -0.029599             -0.331660  0.134525  0.258120  -0.613385   \n",
       "3             0.928254              1.243074  0.301278 -0.177272  -0.882212   \n",
       "4             0.928254              1.243074  0.301278 -0.177272  -0.882212   \n",
       "\n",
       "    alcohol  quality   type  responce  \n",
       "0 -1.418558        6  white     False  \n",
       "1 -0.831615        6  white     False  \n",
       "2 -0.328521        6  white     False  \n",
       "3 -0.496219        6  white     False  \n",
       "4 -0.496219        6  white     False  "
      ]
     },
     "execution_count": 14,
     "metadata": {},
     "output_type": "execute_result"
    }
   ],
   "source": [
    "White = data_norm[data_norm.type == 'white']\n",
    "White.head(5)"
   ]
  },
  {
   "cell_type": "code",
   "execution_count": 15,
   "metadata": {},
   "outputs": [
    {
     "data": {
      "text/html": [
       "<div>\n",
       "<style scoped>\n",
       "    .dataframe tbody tr th:only-of-type {\n",
       "        vertical-align: middle;\n",
       "    }\n",
       "\n",
       "    .dataframe tbody tr th {\n",
       "        vertical-align: top;\n",
       "    }\n",
       "\n",
       "    .dataframe thead th {\n",
       "        text-align: right;\n",
       "    }\n",
       "</style>\n",
       "<table border=\"1\" class=\"dataframe\">\n",
       "  <thead>\n",
       "    <tr style=\"text-align: right;\">\n",
       "      <th></th>\n",
       "      <th>fixed acidity</th>\n",
       "      <th>volatile acidity</th>\n",
       "      <th>citric acid</th>\n",
       "      <th>residual sugar</th>\n",
       "      <th>chlorides</th>\n",
       "      <th>free sulfur dioxide</th>\n",
       "      <th>total sulfur dioxide</th>\n",
       "      <th>density</th>\n",
       "      <th>pH</th>\n",
       "      <th>sulphates</th>\n",
       "      <th>alcohol</th>\n",
       "      <th>quality</th>\n",
       "      <th>type</th>\n",
       "      <th>responce</th>\n",
       "    </tr>\n",
       "  </thead>\n",
       "  <tbody>\n",
       "    <tr>\n",
       "      <th>4898</th>\n",
       "      <td>0.142473</td>\n",
       "      <td>2.188833</td>\n",
       "      <td>-2.192833</td>\n",
       "      <td>-0.744778</td>\n",
       "      <td>0.569958</td>\n",
       "      <td>-1.100140</td>\n",
       "      <td>-1.446359</td>\n",
       "      <td>1.034993</td>\n",
       "      <td>1.813090</td>\n",
       "      <td>0.193097</td>\n",
       "      <td>-0.915464</td>\n",
       "      <td>5</td>\n",
       "      <td>red</td>\n",
       "      <td>False</td>\n",
       "    </tr>\n",
       "    <tr>\n",
       "      <th>4899</th>\n",
       "      <td>0.451036</td>\n",
       "      <td>3.282235</td>\n",
       "      <td>-2.192833</td>\n",
       "      <td>-0.597640</td>\n",
       "      <td>1.197975</td>\n",
       "      <td>-0.311320</td>\n",
       "      <td>-0.862469</td>\n",
       "      <td>0.701486</td>\n",
       "      <td>-0.115073</td>\n",
       "      <td>0.999579</td>\n",
       "      <td>-0.580068</td>\n",
       "      <td>5</td>\n",
       "      <td>red</td>\n",
       "      <td>False</td>\n",
       "    </tr>\n",
       "    <tr>\n",
       "      <th>4900</th>\n",
       "      <td>0.451036</td>\n",
       "      <td>2.553300</td>\n",
       "      <td>-1.917553</td>\n",
       "      <td>-0.660699</td>\n",
       "      <td>1.026697</td>\n",
       "      <td>-0.874763</td>\n",
       "      <td>-1.092486</td>\n",
       "      <td>0.768188</td>\n",
       "      <td>0.258120</td>\n",
       "      <td>0.797958</td>\n",
       "      <td>-0.580068</td>\n",
       "      <td>5</td>\n",
       "      <td>red</td>\n",
       "      <td>False</td>\n",
       "    </tr>\n",
       "    <tr>\n",
       "      <th>4901</th>\n",
       "      <td>3.073817</td>\n",
       "      <td>-0.362438</td>\n",
       "      <td>1.661085</td>\n",
       "      <td>-0.744778</td>\n",
       "      <td>0.541412</td>\n",
       "      <td>-0.762074</td>\n",
       "      <td>-0.986324</td>\n",
       "      <td>1.101694</td>\n",
       "      <td>-0.363868</td>\n",
       "      <td>0.327510</td>\n",
       "      <td>-0.580068</td>\n",
       "      <td>6</td>\n",
       "      <td>red</td>\n",
       "      <td>False</td>\n",
       "    </tr>\n",
       "    <tr>\n",
       "      <th>4902</th>\n",
       "      <td>0.142473</td>\n",
       "      <td>2.188833</td>\n",
       "      <td>-2.192833</td>\n",
       "      <td>-0.744778</td>\n",
       "      <td>0.569958</td>\n",
       "      <td>-1.100140</td>\n",
       "      <td>-1.446359</td>\n",
       "      <td>1.034993</td>\n",
       "      <td>1.813090</td>\n",
       "      <td>0.193097</td>\n",
       "      <td>-0.915464</td>\n",
       "      <td>5</td>\n",
       "      <td>red</td>\n",
       "      <td>False</td>\n",
       "    </tr>\n",
       "  </tbody>\n",
       "</table>\n",
       "</div>"
      ],
      "text/plain": [
       "      fixed acidity  volatile acidity  citric acid  residual sugar  chlorides  \\\n",
       "4898       0.142473          2.188833    -2.192833       -0.744778   0.569958   \n",
       "4899       0.451036          3.282235    -2.192833       -0.597640   1.197975   \n",
       "4900       0.451036          2.553300    -1.917553       -0.660699   1.026697   \n",
       "4901       3.073817         -0.362438     1.661085       -0.744778   0.541412   \n",
       "4902       0.142473          2.188833    -2.192833       -0.744778   0.569958   \n",
       "\n",
       "      free sulfur dioxide  total sulfur dioxide   density        pH  \\\n",
       "4898            -1.100140             -1.446359  1.034993  1.813090   \n",
       "4899            -0.311320             -0.862469  0.701486 -0.115073   \n",
       "4900            -0.874763             -1.092486  0.768188  0.258120   \n",
       "4901            -0.762074             -0.986324  1.101694 -0.363868   \n",
       "4902            -1.100140             -1.446359  1.034993  1.813090   \n",
       "\n",
       "      sulphates   alcohol  quality type  responce  \n",
       "4898   0.193097 -0.915464        5  red     False  \n",
       "4899   0.999579 -0.580068        5  red     False  \n",
       "4900   0.797958 -0.580068        5  red     False  \n",
       "4901   0.327510 -0.580068        6  red     False  \n",
       "4902   0.193097 -0.915464        5  red     False  "
      ]
     },
     "execution_count": 15,
     "metadata": {},
     "output_type": "execute_result"
    }
   ],
   "source": [
    "Red = data_norm[data_norm.type == 'red']\n",
    "Red.head(5)"
   ]
  },
  {
   "cell_type": "code",
   "execution_count": 16,
   "metadata": {},
   "outputs": [],
   "source": [
    "from sklearn.svm import SVC # \"Support Vector Classifier\""
   ]
  },
  {
   "cell_type": "code",
   "execution_count": 17,
   "metadata": {},
   "outputs": [],
   "source": [
    "Yw = White['responce']\n",
    "Xw = White.loc[:, ~data.columns.isin(['quality', 'type'])]"
   ]
  },
  {
   "cell_type": "code",
   "execution_count": 18,
   "metadata": {},
   "outputs": [
    {
     "data": {
      "text/plain": [
       "SVC(C=1.0, cache_size=200, class_weight=None, coef0=0.0,\n",
       "  decision_function_shape='ovr', degree=3, gamma='auto', kernel='linear',\n",
       "  max_iter=-1, probability=False, random_state=None, shrinking=True,\n",
       "  tol=0.001, verbose=False)"
      ]
     },
     "execution_count": 18,
     "metadata": {},
     "output_type": "execute_result"
    }
   ],
   "source": [
    "Wclf = SVC(kernel='linear')\n",
    "Wclf.fit(Xw, Yw)"
   ]
  },
  {
   "cell_type": "code",
   "execution_count": 19,
   "metadata": {},
   "outputs": [
    {
     "data": {
      "text/plain": [
       "array([[ 2.47636041e-04, -1.00694862e-04, -5.31948264e-05,\n",
       "         4.85026914e-04, -1.08896571e-04, -1.08800847e-05,\n",
       "        -3.04724786e-05, -6.82528241e-04,  1.69735041e-04,\n",
       "         1.24110509e-04, -3.95746011e-05]])"
      ]
     },
     "execution_count": 19,
     "metadata": {},
     "output_type": "execute_result"
    }
   ],
   "source": [
    "Wclf.coef_"
   ]
  },
  {
   "cell_type": "code",
   "execution_count": 20,
   "metadata": {},
   "outputs": [
    {
     "name": "stdout",
     "output_type": "stream",
     "text": [
      "0.7835851367905268\n"
     ]
    }
   ],
   "source": [
    "print(Wclf.score(Xw,Yw))"
   ]
  },
  {
   "cell_type": "code",
   "execution_count": 21,
   "metadata": {},
   "outputs": [],
   "source": [
    "Yr = Red['responce']\n",
    "Xr = Red.loc[:, ~data.columns.isin(['quality', 'type'])]"
   ]
  },
  {
   "cell_type": "code",
   "execution_count": 22,
   "metadata": {},
   "outputs": [
    {
     "data": {
      "text/plain": [
       "SVC(C=1.0, cache_size=200, class_weight=None, coef0=0.0,\n",
       "  decision_function_shape='ovr', degree=3, gamma='auto', kernel='linear',\n",
       "  max_iter=-1, probability=False, random_state=None, shrinking=True,\n",
       "  tol=0.001, verbose=False)"
      ]
     },
     "execution_count": 22,
     "metadata": {},
     "output_type": "execute_result"
    }
   ],
   "source": [
    "Rclf = SVC(kernel='linear')\n",
    "Rclf.fit(Xr, Yr)"
   ]
  },
  {
   "cell_type": "code",
   "execution_count": 23,
   "metadata": {},
   "outputs": [
    {
     "data": {
      "text/plain": [
       "array([[-8.47544703e-06, -1.19424604e-05,  5.64523332e-05,\n",
       "         1.63944647e-04, -2.99573176e-05,  1.45597943e-04,\n",
       "        -3.37909625e-04, -1.15810347e-04,  5.48648460e-06,\n",
       "         1.29456129e-04,  1.01566526e-04]])"
      ]
     },
     "execution_count": 23,
     "metadata": {},
     "output_type": "execute_result"
    }
   ],
   "source": [
    "Rclf.coef_"
   ]
  },
  {
   "cell_type": "code",
   "execution_count": 24,
   "metadata": {},
   "outputs": [
    {
     "name": "stdout",
     "output_type": "stream",
     "text": [
      "0.8642901813633521\n"
     ]
    }
   ],
   "source": [
    "print(Rclf.score(Xr,Yr))"
   ]
  },
  {
   "cell_type": "markdown",
   "metadata": {},
   "source": [
    "# Exercise 6.3\n",
    "\n",
    "Test the two SVM's using the different kernels (‘poly’, ‘rbf’, ‘sigmoid’)\n"
   ]
  },
  {
   "cell_type": "markdown",
   "metadata": {},
   "source": [
    "## Poly por tipo"
   ]
  },
  {
   "cell_type": "code",
   "execution_count": 25,
   "metadata": {},
   "outputs": [
    {
     "data": {
      "text/plain": [
       "SVC(C=1.0, cache_size=200, class_weight=None, coef0=0.0,\n",
       "  decision_function_shape='ovr', degree=3, gamma='auto', kernel='poly',\n",
       "  max_iter=-1, probability=False, random_state=None, shrinking=True,\n",
       "  tol=0.001, verbose=False)"
      ]
     },
     "execution_count": 25,
     "metadata": {},
     "output_type": "execute_result"
    }
   ],
   "source": [
    "Wclf_p = SVC(kernel='poly', gamma='auto')\n",
    "Wclf_p.fit(Xw, Yw)"
   ]
  },
  {
   "cell_type": "code",
   "execution_count": 26,
   "metadata": {},
   "outputs": [
    {
     "name": "stdout",
     "output_type": "stream",
     "text": [
      "0.8144140465496121\n"
     ]
    }
   ],
   "source": [
    "print(Wclf_p.score(Xw,Yw))"
   ]
  },
  {
   "cell_type": "code",
   "execution_count": 27,
   "metadata": {},
   "outputs": [
    {
     "data": {
      "text/plain": [
       "SVC(C=1.0, cache_size=200, class_weight=None, coef0=0.0,\n",
       "  decision_function_shape='ovr', degree=3, gamma='auto', kernel='poly',\n",
       "  max_iter=-1, probability=False, random_state=None, shrinking=True,\n",
       "  tol=0.001, verbose=False)"
      ]
     },
     "execution_count": 27,
     "metadata": {},
     "output_type": "execute_result"
    }
   ],
   "source": [
    "Rclf_p = SVC(kernel='poly', gamma='auto')\n",
    "Rclf_p.fit(Xr, Yr)"
   ]
  },
  {
   "cell_type": "code",
   "execution_count": 28,
   "metadata": {},
   "outputs": [
    {
     "name": "stdout",
     "output_type": "stream",
     "text": [
      "0.8961851156973109\n"
     ]
    }
   ],
   "source": [
    "print(Rclf_p.score(Xr,Yr))"
   ]
  },
  {
   "cell_type": "markdown",
   "metadata": {},
   "source": [
    "## rbf por tipo"
   ]
  },
  {
   "cell_type": "code",
   "execution_count": 29,
   "metadata": {},
   "outputs": [
    {
     "data": {
      "text/plain": [
       "SVC(C=1.0, cache_size=200, class_weight=None, coef0=0.0,\n",
       "  decision_function_shape='ovr', degree=3, gamma='auto', kernel='rbf',\n",
       "  max_iter=-1, probability=False, random_state=None, shrinking=True,\n",
       "  tol=0.001, verbose=False)"
      ]
     },
     "execution_count": 29,
     "metadata": {},
     "output_type": "execute_result"
    }
   ],
   "source": [
    "Wclf_r = SVC(kernel='rbf', gamma='auto')\n",
    "Wclf_r.fit(Xw, Yw)"
   ]
  },
  {
   "cell_type": "code",
   "execution_count": 30,
   "metadata": {},
   "outputs": [
    {
     "name": "stdout",
     "output_type": "stream",
     "text": [
      "0.8301347488770927\n"
     ]
    }
   ],
   "source": [
    "print(Wclf_r.score(Xw,Yw))"
   ]
  },
  {
   "cell_type": "code",
   "execution_count": 31,
   "metadata": {},
   "outputs": [
    {
     "data": {
      "text/plain": [
       "SVC(C=1.0, cache_size=200, class_weight=None, coef0=0.0,\n",
       "  decision_function_shape='ovr', degree=3, gamma='auto', kernel='rbf',\n",
       "  max_iter=-1, probability=False, random_state=None, shrinking=True,\n",
       "  tol=0.001, verbose=False)"
      ]
     },
     "execution_count": 31,
     "metadata": {},
     "output_type": "execute_result"
    }
   ],
   "source": [
    "Rclf_r = SVC(kernel='rbf', gamma='auto')\n",
    "Rclf_r.fit(Xr, Yr)"
   ]
  },
  {
   "cell_type": "code",
   "execution_count": 32,
   "metadata": {},
   "outputs": [
    {
     "name": "stdout",
     "output_type": "stream",
     "text": [
      "0.8961851156973109\n"
     ]
    }
   ],
   "source": [
    "print(Rclf_r.score(Xr,Yr))"
   ]
  },
  {
   "cell_type": "markdown",
   "metadata": {},
   "source": [
    "## sigmoid por tipo"
   ]
  },
  {
   "cell_type": "code",
   "execution_count": 33,
   "metadata": {},
   "outputs": [
    {
     "data": {
      "text/plain": [
       "SVC(C=1.0, cache_size=200, class_weight=None, coef0=0.0,\n",
       "  decision_function_shape='ovr', degree=3, gamma='auto', kernel='sigmoid',\n",
       "  max_iter=-1, probability=False, random_state=None, shrinking=True,\n",
       "  tol=0.001, verbose=False)"
      ]
     },
     "execution_count": 33,
     "metadata": {},
     "output_type": "execute_result"
    }
   ],
   "source": [
    "Wclf_s = SVC(kernel='sigmoid', gamma='auto')\n",
    "Wclf_s.fit(Xw, Yw)"
   ]
  },
  {
   "cell_type": "code",
   "execution_count": 34,
   "metadata": {},
   "outputs": [
    {
     "name": "stdout",
     "output_type": "stream",
     "text": [
      "0.7182523478971009\n"
     ]
    }
   ],
   "source": [
    "print(Wclf_s.score(Xw,Yw))"
   ]
  },
  {
   "cell_type": "code",
   "execution_count": 35,
   "metadata": {},
   "outputs": [
    {
     "data": {
      "text/plain": [
       "SVC(C=1.0, cache_size=200, class_weight=None, coef0=0.0,\n",
       "  decision_function_shape='ovr', degree=3, gamma='auto', kernel='sigmoid',\n",
       "  max_iter=-1, probability=False, random_state=None, shrinking=True,\n",
       "  tol=0.001, verbose=False)"
      ]
     },
     "execution_count": 35,
     "metadata": {},
     "output_type": "execute_result"
    }
   ],
   "source": [
    "Rclf_s = SVC(kernel='sigmoid', gamma='auto')\n",
    "Rclf_s.fit(Xr, Yr)"
   ]
  },
  {
   "cell_type": "code",
   "execution_count": 36,
   "metadata": {},
   "outputs": [
    {
     "name": "stdout",
     "output_type": "stream",
     "text": [
      "0.7986241400875547\n"
     ]
    }
   ],
   "source": [
    "print(Rclf_s.score(Xr,Yr))"
   ]
  },
  {
   "cell_type": "markdown",
   "metadata": {},
   "source": [
    "# Exercise 6.4\n",
    "Using the best SVM find the parameters that gives the best performance\n",
    "\n",
    "'C': [0.1, 1, 10, 100, 1000], 'gamma': [0.01, 0.001, 0.0001]"
   ]
  },
  {
   "cell_type": "code",
   "execution_count": 37,
   "metadata": {},
   "outputs": [],
   "source": [
    "C_range = pd.DataFrame([0.1, 1, 10, 100, 1000], columns=['c'],index=['0.1', '1', '10', '100', '1000'])\n",
    "gamma_range = pd.DataFrame([0.01, 0.001, 0.0001],columns=['g'],index=['0.01', '0.001', '0.0001'])"
   ]
  },
  {
   "cell_type": "code",
   "execution_count": 38,
   "metadata": {},
   "outputs": [],
   "source": [
    "results = pd.DataFrame(index=C_range.index, columns=gamma_range.index)"
   ]
  },
  {
   "cell_type": "code",
   "execution_count": 39,
   "metadata": {},
   "outputs": [
    {
     "data": {
      "text/html": [
       "<div>\n",
       "<style scoped>\n",
       "    .dataframe tbody tr th:only-of-type {\n",
       "        vertical-align: middle;\n",
       "    }\n",
       "\n",
       "    .dataframe tbody tr th {\n",
       "        vertical-align: top;\n",
       "    }\n",
       "\n",
       "    .dataframe thead th {\n",
       "        text-align: right;\n",
       "    }\n",
       "</style>\n",
       "<table border=\"1\" class=\"dataframe\">\n",
       "  <thead>\n",
       "    <tr style=\"text-align: right;\">\n",
       "      <th></th>\n",
       "      <th>0.01</th>\n",
       "      <th>0.001</th>\n",
       "      <th>0.0001</th>\n",
       "    </tr>\n",
       "  </thead>\n",
       "  <tbody>\n",
       "    <tr>\n",
       "      <th>0.1</th>\n",
       "      <td>0.783585</td>\n",
       "      <td>0.783585</td>\n",
       "      <td>0.783585</td>\n",
       "    </tr>\n",
       "    <tr>\n",
       "      <th>1</th>\n",
       "      <td>0.793181</td>\n",
       "      <td>0.783585</td>\n",
       "      <td>0.783585</td>\n",
       "    </tr>\n",
       "    <tr>\n",
       "      <th>10</th>\n",
       "      <td>0.818293</td>\n",
       "      <td>0.783585</td>\n",
       "      <td>0.783585</td>\n",
       "    </tr>\n",
       "    <tr>\n",
       "      <th>100</th>\n",
       "      <td>0.82646</td>\n",
       "      <td>0.801552</td>\n",
       "      <td>0.783585</td>\n",
       "    </tr>\n",
       "    <tr>\n",
       "      <th>1000</th>\n",
       "      <td>0.835647</td>\n",
       "      <td>0.817272</td>\n",
       "      <td>0.783585</td>\n",
       "    </tr>\n",
       "  </tbody>\n",
       "</table>\n",
       "</div>"
      ],
      "text/plain": [
       "          0.01     0.001    0.0001\n",
       "0.1   0.783585  0.783585  0.783585\n",
       "1     0.793181  0.783585  0.783585\n",
       "10    0.818293  0.783585  0.783585\n",
       "100    0.82646  0.801552  0.783585\n",
       "1000  0.835647  0.817272  0.783585"
      ]
     },
     "execution_count": 39,
     "metadata": {},
     "output_type": "execute_result"
    }
   ],
   "source": [
    "results = pd.DataFrame(index=C_range.index, columns=gamma_range.index)\n",
    "for C in C_range['c'].iteritems():\n",
    "       for G in gamma_range['g'].iteritems():\n",
    "            Wclf_p = SVC(kernel='rbf', gamma=G[1], C=C[1])\n",
    "            Wclf_p.fit(Xw, Yw)\n",
    "            results[G[0]][C[0]]=Wclf_p.score(Xw,Yw)\n",
    "results"
   ]
  },
  {
   "cell_type": "code",
   "execution_count": 40,
   "metadata": {},
   "outputs": [],
   "source": [
    "results2 = pd.DataFrame(index=C_range.index, columns=gamma_range.index)"
   ]
  },
  {
   "cell_type": "code",
   "execution_count": 41,
   "metadata": {},
   "outputs": [
    {
     "data": {
      "text/html": [
       "<div>\n",
       "<style scoped>\n",
       "    .dataframe tbody tr th:only-of-type {\n",
       "        vertical-align: middle;\n",
       "    }\n",
       "\n",
       "    .dataframe tbody tr th {\n",
       "        vertical-align: top;\n",
       "    }\n",
       "\n",
       "    .dataframe thead th {\n",
       "        text-align: right;\n",
       "    }\n",
       "</style>\n",
       "<table border=\"1\" class=\"dataframe\">\n",
       "  <thead>\n",
       "    <tr style=\"text-align: right;\">\n",
       "      <th></th>\n",
       "      <th>0.01</th>\n",
       "      <th>0.001</th>\n",
       "      <th>0.0001</th>\n",
       "    </tr>\n",
       "  </thead>\n",
       "  <tbody>\n",
       "    <tr>\n",
       "      <th>0.1</th>\n",
       "      <td>0.86429</td>\n",
       "      <td>0.86429</td>\n",
       "      <td>0.86429</td>\n",
       "    </tr>\n",
       "    <tr>\n",
       "      <th>1</th>\n",
       "      <td>0.86429</td>\n",
       "      <td>0.86429</td>\n",
       "      <td>0.86429</td>\n",
       "    </tr>\n",
       "    <tr>\n",
       "      <th>10</th>\n",
       "      <td>0.88868</td>\n",
       "      <td>0.86429</td>\n",
       "      <td>0.86429</td>\n",
       "    </tr>\n",
       "    <tr>\n",
       "      <th>100</th>\n",
       "      <td>0.894934</td>\n",
       "      <td>0.86429</td>\n",
       "      <td>0.86429</td>\n",
       "    </tr>\n",
       "    <tr>\n",
       "      <th>1000</th>\n",
       "      <td>0.917448</td>\n",
       "      <td>0.888055</td>\n",
       "      <td>0.86429</td>\n",
       "    </tr>\n",
       "  </tbody>\n",
       "</table>\n",
       "</div>"
      ],
      "text/plain": [
       "          0.01     0.001   0.0001\n",
       "0.1    0.86429   0.86429  0.86429\n",
       "1      0.86429   0.86429  0.86429\n",
       "10     0.88868   0.86429  0.86429\n",
       "100   0.894934   0.86429  0.86429\n",
       "1000  0.917448  0.888055  0.86429"
      ]
     },
     "execution_count": 41,
     "metadata": {},
     "output_type": "execute_result"
    }
   ],
   "source": [
    "for C in C_range['c'].iteritems():\n",
    "    for G in gamma_range['g'].iteritems():\n",
    "        Rclf_p = SVC(kernel='rbf', gamma=G[1], C=C[1])\n",
    "        Rclf_p.fit(Xr, Yr)\n",
    "        results2[G[0]][C[0]]=Rclf_p.score(Xr,Yr)\n",
    "results2"
   ]
  },
  {
   "cell_type": "markdown",
   "metadata": {},
   "source": [
    "# Exercise 6.5\n",
    "\n",
    "Compare the results with other methods"
   ]
  },
  {
   "cell_type": "markdown",
   "metadata": {},
   "source": [
    "Para comparara los resultados con  los demás métodos, se procede a tomar la combinación de mejor performance y se somete a los diferentes tipos de regresión presentando lo siguiente:"
   ]
  },
  {
   "cell_type": "code",
   "execution_count": 105,
   "metadata": {},
   "outputs": [
    {
     "data": {
      "text/plain": [
       "SVC(C=1000, cache_size=200, class_weight=None, coef0=0.0,\n",
       "  decision_function_shape='ovr', degree=3, gamma=0.01, kernel='rbf',\n",
       "  max_iter=-1, probability=False, random_state=None, shrinking=True,\n",
       "  tol=0.001, verbose=False)"
      ]
     },
     "execution_count": 105,
     "metadata": {},
     "output_type": "execute_result"
    }
   ],
   "source": [
    "Rclf_pr = SVC(kernel='rbf', gamma=0.01, C=1000)\n",
    "Rclf_pr.fit(Xr, Yr)"
   ]
  },
  {
   "cell_type": "code",
   "execution_count": 106,
   "metadata": {},
   "outputs": [
    {
     "data": {
      "text/plain": [
       "SVC(C=1000, cache_size=200, class_weight=None, coef0=0.0,\n",
       "  decision_function_shape='ovr', degree=3, gamma=0.01, kernel='poly',\n",
       "  max_iter=-1, probability=False, random_state=None, shrinking=True,\n",
       "  tol=0.001, verbose=False)"
      ]
     },
     "execution_count": 106,
     "metadata": {},
     "output_type": "execute_result"
    }
   ],
   "source": [
    "Rclf_pp = SVC(kernel='poly', gamma=0.01, C=1000)\n",
    "Rclf_pp.fit(Xr, Yr)"
   ]
  },
  {
   "cell_type": "code",
   "execution_count": 107,
   "metadata": {},
   "outputs": [
    {
     "data": {
      "text/plain": [
       "SVC(C=1000, cache_size=200, class_weight=None, coef0=0.0,\n",
       "  decision_function_shape='ovr', degree=3, gamma=0.01, kernel='sigmoid',\n",
       "  max_iter=-1, probability=False, random_state=None, shrinking=True,\n",
       "  tol=0.001, verbose=False)"
      ]
     },
     "execution_count": 107,
     "metadata": {},
     "output_type": "execute_result"
    }
   ],
   "source": [
    "Rclf_ps = SVC(kernel='sigmoid', gamma=0.01, C=1000)\n",
    "Rclf_ps.fit(Xr, Yr)"
   ]
  },
  {
   "cell_type": "code",
   "execution_count": 108,
   "metadata": {},
   "outputs": [
    {
     "name": "stdout",
     "output_type": "stream",
     "text": [
      "primera rbf:  0.9174484052532833\n",
      "Segunda poly:  0.8974358974358975\n",
      "Tercera sigmoid:  0.9174484052532833\n"
     ]
    }
   ],
   "source": [
    "print( \"primera rbf: \", Rclf_pr.score(Xr,Yr))\n",
    "print( \"Segunda poly: \", Rclf_pp.score(Xr,Yr))\n",
    "print( \"Tercera sigmoid: \", Rclf_pr.score(Xr,Yr))"
   ]
  },
  {
   "cell_type": "markdown",
   "metadata": {},
   "source": [
    "Esto lo que nos muestra es que a pesar de tener los parámetros óptimos dentro de la configuración del dataset, estos al ser comparados frente a otros modelos pueden variar significativamente por lo cual se determina que si se quiere conseguir un resultado óptimo se debe buscar siempre los mejores parámetros que se adecuen al modelo a analizar "
   ]
  },
  {
   "cell_type": "markdown",
   "metadata": {},
   "source": [
    "# Regularization"
   ]
  },
  {
   "cell_type": "markdown",
   "metadata": {},
   "source": [
    "# Exercise 6.6\n",
    "\n",
    "\n",
    "* Train a linear regression to predict wine quality (Continous)\n",
    "\n",
    "* Analyze the coefficients\n",
    "\n",
    "* Evaluate the RMSE"
   ]
  },
  {
   "cell_type": "code",
   "execution_count": 42,
   "metadata": {},
   "outputs": [],
   "source": [
    "datareg=data"
   ]
  },
  {
   "cell_type": "code",
   "execution_count": 43,
   "metadata": {},
   "outputs": [],
   "source": [
    "datareg['type']= np.where(datareg['type']=='white',1,0)\n",
    "datareg['type'] = datareg['type'].astype(bool)"
   ]
  },
  {
   "cell_type": "code",
   "execution_count": 44,
   "metadata": {},
   "outputs": [
    {
     "data": {
      "text/html": [
       "<div>\n",
       "<style scoped>\n",
       "    .dataframe tbody tr th:only-of-type {\n",
       "        vertical-align: middle;\n",
       "    }\n",
       "\n",
       "    .dataframe tbody tr th {\n",
       "        vertical-align: top;\n",
       "    }\n",
       "\n",
       "    .dataframe thead th {\n",
       "        text-align: right;\n",
       "    }\n",
       "</style>\n",
       "<table border=\"1\" class=\"dataframe\">\n",
       "  <thead>\n",
       "    <tr style=\"text-align: right;\">\n",
       "      <th></th>\n",
       "      <th>fixed acidity</th>\n",
       "      <th>volatile acidity</th>\n",
       "      <th>citric acid</th>\n",
       "      <th>residual sugar</th>\n",
       "      <th>chlorides</th>\n",
       "      <th>free sulfur dioxide</th>\n",
       "      <th>total sulfur dioxide</th>\n",
       "      <th>density</th>\n",
       "      <th>pH</th>\n",
       "      <th>sulphates</th>\n",
       "      <th>alcohol</th>\n",
       "      <th>quality</th>\n",
       "      <th>type</th>\n",
       "    </tr>\n",
       "  </thead>\n",
       "  <tbody>\n",
       "    <tr>\n",
       "      <th>0</th>\n",
       "      <td>7.0</td>\n",
       "      <td>0.27</td>\n",
       "      <td>0.36</td>\n",
       "      <td>20.7</td>\n",
       "      <td>0.045</td>\n",
       "      <td>45.0</td>\n",
       "      <td>170.0</td>\n",
       "      <td>1.0010</td>\n",
       "      <td>3.00</td>\n",
       "      <td>0.45</td>\n",
       "      <td>8.8</td>\n",
       "      <td>6</td>\n",
       "      <td>True</td>\n",
       "    </tr>\n",
       "    <tr>\n",
       "      <th>1</th>\n",
       "      <td>6.3</td>\n",
       "      <td>0.30</td>\n",
       "      <td>0.34</td>\n",
       "      <td>1.6</td>\n",
       "      <td>0.049</td>\n",
       "      <td>14.0</td>\n",
       "      <td>132.0</td>\n",
       "      <td>0.9940</td>\n",
       "      <td>3.30</td>\n",
       "      <td>0.49</td>\n",
       "      <td>9.5</td>\n",
       "      <td>6</td>\n",
       "      <td>True</td>\n",
       "    </tr>\n",
       "    <tr>\n",
       "      <th>2</th>\n",
       "      <td>8.1</td>\n",
       "      <td>0.28</td>\n",
       "      <td>0.40</td>\n",
       "      <td>6.9</td>\n",
       "      <td>0.050</td>\n",
       "      <td>30.0</td>\n",
       "      <td>97.0</td>\n",
       "      <td>0.9951</td>\n",
       "      <td>3.26</td>\n",
       "      <td>0.44</td>\n",
       "      <td>10.1</td>\n",
       "      <td>6</td>\n",
       "      <td>True</td>\n",
       "    </tr>\n",
       "    <tr>\n",
       "      <th>3</th>\n",
       "      <td>7.2</td>\n",
       "      <td>0.23</td>\n",
       "      <td>0.32</td>\n",
       "      <td>8.5</td>\n",
       "      <td>0.058</td>\n",
       "      <td>47.0</td>\n",
       "      <td>186.0</td>\n",
       "      <td>0.9956</td>\n",
       "      <td>3.19</td>\n",
       "      <td>0.40</td>\n",
       "      <td>9.9</td>\n",
       "      <td>6</td>\n",
       "      <td>True</td>\n",
       "    </tr>\n",
       "    <tr>\n",
       "      <th>4</th>\n",
       "      <td>7.2</td>\n",
       "      <td>0.23</td>\n",
       "      <td>0.32</td>\n",
       "      <td>8.5</td>\n",
       "      <td>0.058</td>\n",
       "      <td>47.0</td>\n",
       "      <td>186.0</td>\n",
       "      <td>0.9956</td>\n",
       "      <td>3.19</td>\n",
       "      <td>0.40</td>\n",
       "      <td>9.9</td>\n",
       "      <td>6</td>\n",
       "      <td>True</td>\n",
       "    </tr>\n",
       "    <tr>\n",
       "      <th>5</th>\n",
       "      <td>8.1</td>\n",
       "      <td>0.28</td>\n",
       "      <td>0.40</td>\n",
       "      <td>6.9</td>\n",
       "      <td>0.050</td>\n",
       "      <td>30.0</td>\n",
       "      <td>97.0</td>\n",
       "      <td>0.9951</td>\n",
       "      <td>3.26</td>\n",
       "      <td>0.44</td>\n",
       "      <td>10.1</td>\n",
       "      <td>6</td>\n",
       "      <td>True</td>\n",
       "    </tr>\n",
       "    <tr>\n",
       "      <th>6</th>\n",
       "      <td>6.2</td>\n",
       "      <td>0.32</td>\n",
       "      <td>0.16</td>\n",
       "      <td>7.0</td>\n",
       "      <td>0.045</td>\n",
       "      <td>30.0</td>\n",
       "      <td>136.0</td>\n",
       "      <td>0.9949</td>\n",
       "      <td>3.18</td>\n",
       "      <td>0.47</td>\n",
       "      <td>9.6</td>\n",
       "      <td>6</td>\n",
       "      <td>True</td>\n",
       "    </tr>\n",
       "    <tr>\n",
       "      <th>7</th>\n",
       "      <td>7.0</td>\n",
       "      <td>0.27</td>\n",
       "      <td>0.36</td>\n",
       "      <td>20.7</td>\n",
       "      <td>0.045</td>\n",
       "      <td>45.0</td>\n",
       "      <td>170.0</td>\n",
       "      <td>1.0010</td>\n",
       "      <td>3.00</td>\n",
       "      <td>0.45</td>\n",
       "      <td>8.8</td>\n",
       "      <td>6</td>\n",
       "      <td>True</td>\n",
       "    </tr>\n",
       "    <tr>\n",
       "      <th>8</th>\n",
       "      <td>6.3</td>\n",
       "      <td>0.30</td>\n",
       "      <td>0.34</td>\n",
       "      <td>1.6</td>\n",
       "      <td>0.049</td>\n",
       "      <td>14.0</td>\n",
       "      <td>132.0</td>\n",
       "      <td>0.9940</td>\n",
       "      <td>3.30</td>\n",
       "      <td>0.49</td>\n",
       "      <td>9.5</td>\n",
       "      <td>6</td>\n",
       "      <td>True</td>\n",
       "    </tr>\n",
       "    <tr>\n",
       "      <th>9</th>\n",
       "      <td>8.1</td>\n",
       "      <td>0.22</td>\n",
       "      <td>0.43</td>\n",
       "      <td>1.5</td>\n",
       "      <td>0.044</td>\n",
       "      <td>28.0</td>\n",
       "      <td>129.0</td>\n",
       "      <td>0.9938</td>\n",
       "      <td>3.22</td>\n",
       "      <td>0.45</td>\n",
       "      <td>11.0</td>\n",
       "      <td>6</td>\n",
       "      <td>True</td>\n",
       "    </tr>\n",
       "  </tbody>\n",
       "</table>\n",
       "</div>"
      ],
      "text/plain": [
       "   fixed acidity  volatile acidity  citric acid  residual sugar  chlorides  \\\n",
       "0            7.0              0.27         0.36            20.7      0.045   \n",
       "1            6.3              0.30         0.34             1.6      0.049   \n",
       "2            8.1              0.28         0.40             6.9      0.050   \n",
       "3            7.2              0.23         0.32             8.5      0.058   \n",
       "4            7.2              0.23         0.32             8.5      0.058   \n",
       "5            8.1              0.28         0.40             6.9      0.050   \n",
       "6            6.2              0.32         0.16             7.0      0.045   \n",
       "7            7.0              0.27         0.36            20.7      0.045   \n",
       "8            6.3              0.30         0.34             1.6      0.049   \n",
       "9            8.1              0.22         0.43             1.5      0.044   \n",
       "\n",
       "   free sulfur dioxide  total sulfur dioxide  density    pH  sulphates  \\\n",
       "0                 45.0                 170.0   1.0010  3.00       0.45   \n",
       "1                 14.0                 132.0   0.9940  3.30       0.49   \n",
       "2                 30.0                  97.0   0.9951  3.26       0.44   \n",
       "3                 47.0                 186.0   0.9956  3.19       0.40   \n",
       "4                 47.0                 186.0   0.9956  3.19       0.40   \n",
       "5                 30.0                  97.0   0.9951  3.26       0.44   \n",
       "6                 30.0                 136.0   0.9949  3.18       0.47   \n",
       "7                 45.0                 170.0   1.0010  3.00       0.45   \n",
       "8                 14.0                 132.0   0.9940  3.30       0.49   \n",
       "9                 28.0                 129.0   0.9938  3.22       0.45   \n",
       "\n",
       "   alcohol  quality  type  \n",
       "0      8.8        6  True  \n",
       "1      9.5        6  True  \n",
       "2     10.1        6  True  \n",
       "3      9.9        6  True  \n",
       "4      9.9        6  True  \n",
       "5     10.1        6  True  \n",
       "6      9.6        6  True  \n",
       "7      8.8        6  True  \n",
       "8      9.5        6  True  \n",
       "9     11.0        6  True  "
      ]
     },
     "execution_count": 44,
     "metadata": {},
     "output_type": "execute_result"
    }
   ],
   "source": [
    "datareg.head(10)"
   ]
  },
  {
   "cell_type": "code",
   "execution_count": 45,
   "metadata": {},
   "outputs": [],
   "source": [
    "Xreg=datareg.drop('quality', axis=1)\n",
    "Yreg=datareg['quality']"
   ]
  },
  {
   "cell_type": "code",
   "execution_count": 46,
   "metadata": {},
   "outputs": [],
   "source": [
    "from sklearn.model_selection import train_test_split\n",
    "X_train, X_test, Y_train, Y_test = train_test_split(Xreg, Yreg, random_state=1)"
   ]
  },
  {
   "cell_type": "code",
   "execution_count": 47,
   "metadata": {},
   "outputs": [
    {
     "data": {
      "text/plain": [
       "LinearRegression(copy_X=True, fit_intercept=True, n_jobs=1, normalize=False)"
      ]
     },
     "execution_count": 47,
     "metadata": {},
     "output_type": "execute_result"
    }
   ],
   "source": [
    "from sklearn.linear_model import LinearRegression\n",
    "linreg = LinearRegression()\n",
    "linreg.fit(X_train, Y_train)"
   ]
  },
  {
   "cell_type": "code",
   "execution_count": 114,
   "metadata": {},
   "outputs": [
    {
     "data": {
      "text/html": [
       "<div>\n",
       "<style scoped>\n",
       "    .dataframe tbody tr th:only-of-type {\n",
       "        vertical-align: middle;\n",
       "    }\n",
       "\n",
       "    .dataframe tbody tr th {\n",
       "        vertical-align: top;\n",
       "    }\n",
       "\n",
       "    .dataframe thead th {\n",
       "        text-align: right;\n",
       "    }\n",
       "</style>\n",
       "<table border=\"1\" class=\"dataframe\">\n",
       "  <thead>\n",
       "    <tr style=\"text-align: right;\">\n",
       "      <th></th>\n",
       "      <th>1</th>\n",
       "    </tr>\n",
       "  </thead>\n",
       "  <tbody>\n",
       "    <tr>\n",
       "      <th>fixed acidity</th>\n",
       "      <td>0.097622</td>\n",
       "    </tr>\n",
       "    <tr>\n",
       "      <th>volatile acidity</th>\n",
       "      <td>-1.550473</td>\n",
       "    </tr>\n",
       "    <tr>\n",
       "      <th>citric acid</th>\n",
       "      <td>-0.136419</td>\n",
       "    </tr>\n",
       "    <tr>\n",
       "      <th>residual sugar</th>\n",
       "      <td>0.066747</td>\n",
       "    </tr>\n",
       "    <tr>\n",
       "      <th>chlorides</th>\n",
       "      <td>-0.767940</td>\n",
       "    </tr>\n",
       "    <tr>\n",
       "      <th>free sulfur dioxide</th>\n",
       "      <td>0.003998</td>\n",
       "    </tr>\n",
       "    <tr>\n",
       "      <th>total sulfur dioxide</th>\n",
       "      <td>-0.001057</td>\n",
       "    </tr>\n",
       "    <tr>\n",
       "      <th>density</th>\n",
       "      <td>-113.045446</td>\n",
       "    </tr>\n",
       "    <tr>\n",
       "      <th>pH</th>\n",
       "      <td>0.515890</td>\n",
       "    </tr>\n",
       "    <tr>\n",
       "      <th>sulphates</th>\n",
       "      <td>0.701082</td>\n",
       "    </tr>\n",
       "    <tr>\n",
       "      <th>alcohol</th>\n",
       "      <td>0.209972</td>\n",
       "    </tr>\n",
       "    <tr>\n",
       "      <th>type</th>\n",
       "      <td>-0.424353</td>\n",
       "    </tr>\n",
       "  </tbody>\n",
       "</table>\n",
       "</div>"
      ],
      "text/plain": [
       "                               1\n",
       "fixed acidity           0.097622\n",
       "volatile acidity       -1.550473\n",
       "citric acid            -0.136419\n",
       "residual sugar          0.066747\n",
       "chlorides              -0.767940\n",
       "free sulfur dioxide     0.003998\n",
       "total sulfur dioxide   -0.001057\n",
       "density              -113.045446\n",
       "pH                      0.515890\n",
       "sulphates               0.701082\n",
       "alcohol                 0.209972\n",
       "type                   -0.424353"
      ]
     },
     "execution_count": 114,
     "metadata": {},
     "output_type": "execute_result"
    }
   ],
   "source": [
    "Vars0=np.array(list(X_train))\n",
    "coeficientes=linreg.coef_\n",
    "result0=pd.DataFrame(coeficientes, index=Vars, columns = [1])\n",
    "result0"
   ]
  },
  {
   "cell_type": "code",
   "execution_count": 49,
   "metadata": {},
   "outputs": [],
   "source": [
    "Y_pred = linreg.predict(X_test)"
   ]
  },
  {
   "cell_type": "code",
   "execution_count": 50,
   "metadata": {},
   "outputs": [
    {
     "name": "stdout",
     "output_type": "stream",
     "text": [
      "0.7176907067288502\n"
     ]
    }
   ],
   "source": [
    "from sklearn import metrics\n",
    "import numpy as np\n",
    "print(np.sqrt(metrics.mean_squared_error(Y_test, Y_pred)))"
   ]
  },
  {
   "cell_type": "markdown",
   "metadata": {},
   "source": [
    "Se puede determinar que al realizar la regresión la densidad al contener los valores más grandes es la que más relevancia toma dentro del modelo por lo cual así este describa el 72% este solo es descrito por esa variable"
   ]
  },
  {
   "cell_type": "markdown",
   "metadata": {},
   "source": [
    "# Exercise 6.7\n",
    "\n",
    "* Estimate a ridge regression with alpha equals 0.1 and 1.\n",
    "* Compare the coefficients with the linear regression\n",
    "* Evaluate the RMSE"
   ]
  },
  {
   "cell_type": "code",
   "execution_count": 51,
   "metadata": {},
   "outputs": [
    {
     "data": {
      "text/plain": [
       "Ridge(alpha=0.1, copy_X=True, fit_intercept=True, max_iter=None,\n",
       "   normalize=True, random_state=None, solver='auto', tol=0.001)"
      ]
     },
     "execution_count": 51,
     "metadata": {},
     "output_type": "execute_result"
    }
   ],
   "source": [
    "from sklearn.linear_model import Ridge\n",
    "ridgereg = Ridge(alpha=0.1, normalize=True)\n",
    "ridgereg.fit(X_train, Y_train)"
   ]
  },
  {
   "cell_type": "code",
   "execution_count": 52,
   "metadata": {},
   "outputs": [
    {
     "data": {
      "text/plain": [
       "array([ 2.88566714e-02, -1.28227049e+00, -2.39357437e-02,  2.97639425e-02,\n",
       "       -1.18663870e+00,  3.80364255e-03, -1.28915306e-03, -3.82373057e+01,\n",
       "        2.08500233e-01,  5.91549553e-01,  2.50777308e-01, -1.56871332e-01])"
      ]
     },
     "execution_count": 52,
     "metadata": {},
     "output_type": "execute_result"
    }
   ],
   "source": [
    "ridgereg.coef_"
   ]
  },
  {
   "cell_type": "code",
   "execution_count": 53,
   "metadata": {},
   "outputs": [
    {
     "name": "stdout",
     "output_type": "stream",
     "text": [
      "0.7199798419799722\n"
     ]
    }
   ],
   "source": [
    "Y_pred1 = ridgereg.predict(X_test)\n",
    "print(np.sqrt(metrics.mean_squared_error(Y_test, Y_pred1)))"
   ]
  },
  {
   "cell_type": "code",
   "execution_count": 54,
   "metadata": {},
   "outputs": [
    {
     "data": {
      "text/plain": [
       "Ridge(alpha=1, copy_X=True, fit_intercept=True, max_iter=None, normalize=True,\n",
       "   random_state=None, solver='auto', tol=0.001)"
      ]
     },
     "execution_count": 54,
     "metadata": {},
     "output_type": "execute_result"
    }
   ],
   "source": [
    "ridgereg2 = Ridge(alpha=1, normalize=True)\n",
    "ridgereg2.fit(X_train, Y_train)"
   ]
  },
  {
   "cell_type": "code",
   "execution_count": 115,
   "metadata": {},
   "outputs": [
    {
     "data": {
      "text/html": [
       "<div>\n",
       "<style scoped>\n",
       "    .dataframe tbody tr th:only-of-type {\n",
       "        vertical-align: middle;\n",
       "    }\n",
       "\n",
       "    .dataframe tbody tr th {\n",
       "        vertical-align: top;\n",
       "    }\n",
       "\n",
       "    .dataframe thead th {\n",
       "        text-align: right;\n",
       "    }\n",
       "</style>\n",
       "<table border=\"1\" class=\"dataframe\">\n",
       "  <thead>\n",
       "    <tr style=\"text-align: right;\">\n",
       "      <th></th>\n",
       "      <th>1</th>\n",
       "      <th>2</th>\n",
       "    </tr>\n",
       "  </thead>\n",
       "  <tbody>\n",
       "    <tr>\n",
       "      <th>fixed acidity</th>\n",
       "      <td>0.097622</td>\n",
       "      <td>0.001598</td>\n",
       "    </tr>\n",
       "    <tr>\n",
       "      <th>volatile acidity</th>\n",
       "      <td>-1.550473</td>\n",
       "      <td>-0.585135</td>\n",
       "    </tr>\n",
       "    <tr>\n",
       "      <th>citric acid</th>\n",
       "      <td>-0.136419</td>\n",
       "      <td>0.148863</td>\n",
       "    </tr>\n",
       "    <tr>\n",
       "      <th>residual sugar</th>\n",
       "      <td>0.066747</td>\n",
       "      <td>0.005687</td>\n",
       "    </tr>\n",
       "    <tr>\n",
       "      <th>chlorides</th>\n",
       "      <td>-0.767940</td>\n",
       "      <td>-1.274221</td>\n",
       "    </tr>\n",
       "    <tr>\n",
       "      <th>free sulfur dioxide</th>\n",
       "      <td>0.003998</td>\n",
       "      <td>0.001296</td>\n",
       "    </tr>\n",
       "    <tr>\n",
       "      <th>total sulfur dioxide</th>\n",
       "      <td>-0.001057</td>\n",
       "      <td>-0.000583</td>\n",
       "    </tr>\n",
       "    <tr>\n",
       "      <th>density</th>\n",
       "      <td>-113.045446</td>\n",
       "      <td>-22.285153</td>\n",
       "    </tr>\n",
       "    <tr>\n",
       "      <th>pH</th>\n",
       "      <td>0.515890</td>\n",
       "      <td>0.082972</td>\n",
       "    </tr>\n",
       "    <tr>\n",
       "      <th>sulphates</th>\n",
       "      <td>0.701082</td>\n",
       "      <td>0.300782</td>\n",
       "    </tr>\n",
       "    <tr>\n",
       "      <th>alcohol</th>\n",
       "      <td>0.209972</td>\n",
       "      <td>0.136294</td>\n",
       "    </tr>\n",
       "    <tr>\n",
       "      <th>type</th>\n",
       "      <td>-0.424353</td>\n",
       "      <td>0.004296</td>\n",
       "    </tr>\n",
       "  </tbody>\n",
       "</table>\n",
       "</div>"
      ],
      "text/plain": [
       "                               1          2\n",
       "fixed acidity           0.097622   0.001598\n",
       "volatile acidity       -1.550473  -0.585135\n",
       "citric acid            -0.136419   0.148863\n",
       "residual sugar          0.066747   0.005687\n",
       "chlorides              -0.767940  -1.274221\n",
       "free sulfur dioxide     0.003998   0.001296\n",
       "total sulfur dioxide   -0.001057  -0.000583\n",
       "density              -113.045446 -22.285153\n",
       "pH                      0.515890   0.082972\n",
       "sulphates               0.701082   0.300782\n",
       "alcohol                 0.209972   0.136294\n",
       "type                   -0.424353   0.004296"
      ]
     },
     "execution_count": 115,
     "metadata": {},
     "output_type": "execute_result"
    }
   ],
   "source": [
    "result0['2']= ridgereg2.coef_\n",
    "result0"
   ]
  },
  {
   "cell_type": "code",
   "execution_count": 56,
   "metadata": {},
   "outputs": [
    {
     "name": "stdout",
     "output_type": "stream",
     "text": [
      "0.7607146212084613\n"
     ]
    }
   ],
   "source": [
    "Y_pred2 = ridgereg2.predict(X_test)\n",
    "print(np.sqrt(metrics.mean_squared_error(Y_test, Y_pred2)))"
   ]
  },
  {
   "cell_type": "markdown",
   "metadata": {},
   "source": [
    "Al realizar la regresión con el método ridge se puede determinar que esta normaliza el coeficiente predominante haciendo que la función evaluada tenga un mejor desempeño frente a la función lineal convencional."
   ]
  },
  {
   "cell_type": "markdown",
   "metadata": {},
   "source": [
    "# Exercise 6.8\n",
    "\n",
    "* Estimate a lasso regression with alpha equals 0.01, 0.1 and 1.\n",
    "* Compare the coefficients with the linear regression\n",
    "* Evaluate the RMSE"
   ]
  },
  {
   "cell_type": "code",
   "execution_count": 57,
   "metadata": {},
   "outputs": [
    {
     "data": {
      "text/plain": [
       "Lasso(alpha=0.01, copy_X=True, fit_intercept=True, max_iter=1000,\n",
       "   normalize=True, positive=False, precompute=False, random_state=None,\n",
       "   selection='cyclic', tol=0.0001, warm_start=False)"
      ]
     },
     "execution_count": 57,
     "metadata": {},
     "output_type": "execute_result"
    }
   ],
   "source": [
    "from sklearn.linear_model import Lasso\n",
    "lassoreg0 = Lasso(alpha=0.01, normalize=True)\n",
    "lassoreg0.fit(X_train, Y_train)"
   ]
  },
  {
   "cell_type": "code",
   "execution_count": 118,
   "metadata": {},
   "outputs": [
    {
     "data": {
      "text/html": [
       "<div>\n",
       "<style scoped>\n",
       "    .dataframe tbody tr th:only-of-type {\n",
       "        vertical-align: middle;\n",
       "    }\n",
       "\n",
       "    .dataframe tbody tr th {\n",
       "        vertical-align: top;\n",
       "    }\n",
       "\n",
       "    .dataframe thead th {\n",
       "        text-align: right;\n",
       "    }\n",
       "</style>\n",
       "<table border=\"1\" class=\"dataframe\">\n",
       "  <thead>\n",
       "    <tr style=\"text-align: right;\">\n",
       "      <th></th>\n",
       "      <th>1</th>\n",
       "      <th>2</th>\n",
       "      <th>3</th>\n",
       "    </tr>\n",
       "  </thead>\n",
       "  <tbody>\n",
       "    <tr>\n",
       "      <th>fixed acidity</th>\n",
       "      <td>0.097622</td>\n",
       "      <td>0.001598</td>\n",
       "      <td>-0.0</td>\n",
       "    </tr>\n",
       "    <tr>\n",
       "      <th>volatile acidity</th>\n",
       "      <td>-1.550473</td>\n",
       "      <td>-0.585135</td>\n",
       "      <td>-0.0</td>\n",
       "    </tr>\n",
       "    <tr>\n",
       "      <th>citric acid</th>\n",
       "      <td>-0.136419</td>\n",
       "      <td>0.148863</td>\n",
       "      <td>0.0</td>\n",
       "    </tr>\n",
       "    <tr>\n",
       "      <th>residual sugar</th>\n",
       "      <td>0.066747</td>\n",
       "      <td>0.005687</td>\n",
       "      <td>-0.0</td>\n",
       "    </tr>\n",
       "    <tr>\n",
       "      <th>chlorides</th>\n",
       "      <td>-0.767940</td>\n",
       "      <td>-1.274221</td>\n",
       "      <td>-0.0</td>\n",
       "    </tr>\n",
       "    <tr>\n",
       "      <th>free sulfur dioxide</th>\n",
       "      <td>0.003998</td>\n",
       "      <td>0.001296</td>\n",
       "      <td>0.0</td>\n",
       "    </tr>\n",
       "    <tr>\n",
       "      <th>total sulfur dioxide</th>\n",
       "      <td>-0.001057</td>\n",
       "      <td>-0.000583</td>\n",
       "      <td>-0.0</td>\n",
       "    </tr>\n",
       "    <tr>\n",
       "      <th>density</th>\n",
       "      <td>-113.045446</td>\n",
       "      <td>-22.285153</td>\n",
       "      <td>-0.0</td>\n",
       "    </tr>\n",
       "    <tr>\n",
       "      <th>pH</th>\n",
       "      <td>0.515890</td>\n",
       "      <td>0.082972</td>\n",
       "      <td>0.0</td>\n",
       "    </tr>\n",
       "    <tr>\n",
       "      <th>sulphates</th>\n",
       "      <td>0.701082</td>\n",
       "      <td>0.300782</td>\n",
       "      <td>0.0</td>\n",
       "    </tr>\n",
       "    <tr>\n",
       "      <th>alcohol</th>\n",
       "      <td>0.209972</td>\n",
       "      <td>0.136294</td>\n",
       "      <td>0.0</td>\n",
       "    </tr>\n",
       "    <tr>\n",
       "      <th>type</th>\n",
       "      <td>-0.424353</td>\n",
       "      <td>0.004296</td>\n",
       "      <td>0.0</td>\n",
       "    </tr>\n",
       "  </tbody>\n",
       "</table>\n",
       "</div>"
      ],
      "text/plain": [
       "                               1          2    3\n",
       "fixed acidity           0.097622   0.001598 -0.0\n",
       "volatile acidity       -1.550473  -0.585135 -0.0\n",
       "citric acid            -0.136419   0.148863  0.0\n",
       "residual sugar          0.066747   0.005687 -0.0\n",
       "chlorides              -0.767940  -1.274221 -0.0\n",
       "free sulfur dioxide     0.003998   0.001296  0.0\n",
       "total sulfur dioxide   -0.001057  -0.000583 -0.0\n",
       "density              -113.045446 -22.285153 -0.0\n",
       "pH                      0.515890   0.082972  0.0\n",
       "sulphates               0.701082   0.300782  0.0\n",
       "alcohol                 0.209972   0.136294  0.0\n",
       "type                   -0.424353   0.004296  0.0"
      ]
     },
     "execution_count": 118,
     "metadata": {},
     "output_type": "execute_result"
    }
   ],
   "source": [
    "result0['3']= lassoreg0.coef_\n",
    "result0"
   ]
  },
  {
   "cell_type": "code",
   "execution_count": 59,
   "metadata": {},
   "outputs": [
    {
     "name": "stdout",
     "output_type": "stream",
     "text": [
      "0.8709345888926285\n"
     ]
    }
   ],
   "source": [
    "Y_pred3 = lassoreg0.predict(X_test)\n",
    "print(np.sqrt(metrics.mean_squared_error(Y_test, Y_pred3)))"
   ]
  },
  {
   "cell_type": "code",
   "execution_count": 60,
   "metadata": {},
   "outputs": [
    {
     "data": {
      "text/plain": [
       "Lasso(alpha=0.1, copy_X=True, fit_intercept=True, max_iter=1000,\n",
       "   normalize=True, positive=False, precompute=False, random_state=None,\n",
       "   selection='cyclic', tol=0.0001, warm_start=False)"
      ]
     },
     "execution_count": 60,
     "metadata": {},
     "output_type": "execute_result"
    }
   ],
   "source": [
    "from sklearn.linear_model import Lasso\n",
    "lassoreg1 = Lasso(alpha=0.1, normalize=True)\n",
    "lassoreg1.fit(X_train, Y_train)"
   ]
  },
  {
   "cell_type": "code",
   "execution_count": 119,
   "metadata": {},
   "outputs": [
    {
     "data": {
      "text/html": [
       "<div>\n",
       "<style scoped>\n",
       "    .dataframe tbody tr th:only-of-type {\n",
       "        vertical-align: middle;\n",
       "    }\n",
       "\n",
       "    .dataframe tbody tr th {\n",
       "        vertical-align: top;\n",
       "    }\n",
       "\n",
       "    .dataframe thead th {\n",
       "        text-align: right;\n",
       "    }\n",
       "</style>\n",
       "<table border=\"1\" class=\"dataframe\">\n",
       "  <thead>\n",
       "    <tr style=\"text-align: right;\">\n",
       "      <th></th>\n",
       "      <th>1</th>\n",
       "      <th>2</th>\n",
       "      <th>3</th>\n",
       "      <th>4</th>\n",
       "    </tr>\n",
       "  </thead>\n",
       "  <tbody>\n",
       "    <tr>\n",
       "      <th>fixed acidity</th>\n",
       "      <td>0.097622</td>\n",
       "      <td>0.001598</td>\n",
       "      <td>-0.0</td>\n",
       "      <td>-0.0</td>\n",
       "    </tr>\n",
       "    <tr>\n",
       "      <th>volatile acidity</th>\n",
       "      <td>-1.550473</td>\n",
       "      <td>-0.585135</td>\n",
       "      <td>-0.0</td>\n",
       "      <td>-0.0</td>\n",
       "    </tr>\n",
       "    <tr>\n",
       "      <th>citric acid</th>\n",
       "      <td>-0.136419</td>\n",
       "      <td>0.148863</td>\n",
       "      <td>0.0</td>\n",
       "      <td>0.0</td>\n",
       "    </tr>\n",
       "    <tr>\n",
       "      <th>residual sugar</th>\n",
       "      <td>0.066747</td>\n",
       "      <td>0.005687</td>\n",
       "      <td>-0.0</td>\n",
       "      <td>-0.0</td>\n",
       "    </tr>\n",
       "    <tr>\n",
       "      <th>chlorides</th>\n",
       "      <td>-0.767940</td>\n",
       "      <td>-1.274221</td>\n",
       "      <td>-0.0</td>\n",
       "      <td>-0.0</td>\n",
       "    </tr>\n",
       "    <tr>\n",
       "      <th>free sulfur dioxide</th>\n",
       "      <td>0.003998</td>\n",
       "      <td>0.001296</td>\n",
       "      <td>0.0</td>\n",
       "      <td>0.0</td>\n",
       "    </tr>\n",
       "    <tr>\n",
       "      <th>total sulfur dioxide</th>\n",
       "      <td>-0.001057</td>\n",
       "      <td>-0.000583</td>\n",
       "      <td>-0.0</td>\n",
       "      <td>-0.0</td>\n",
       "    </tr>\n",
       "    <tr>\n",
       "      <th>density</th>\n",
       "      <td>-113.045446</td>\n",
       "      <td>-22.285153</td>\n",
       "      <td>-0.0</td>\n",
       "      <td>-0.0</td>\n",
       "    </tr>\n",
       "    <tr>\n",
       "      <th>pH</th>\n",
       "      <td>0.515890</td>\n",
       "      <td>0.082972</td>\n",
       "      <td>0.0</td>\n",
       "      <td>0.0</td>\n",
       "    </tr>\n",
       "    <tr>\n",
       "      <th>sulphates</th>\n",
       "      <td>0.701082</td>\n",
       "      <td>0.300782</td>\n",
       "      <td>0.0</td>\n",
       "      <td>0.0</td>\n",
       "    </tr>\n",
       "    <tr>\n",
       "      <th>alcohol</th>\n",
       "      <td>0.209972</td>\n",
       "      <td>0.136294</td>\n",
       "      <td>0.0</td>\n",
       "      <td>0.0</td>\n",
       "    </tr>\n",
       "    <tr>\n",
       "      <th>type</th>\n",
       "      <td>-0.424353</td>\n",
       "      <td>0.004296</td>\n",
       "      <td>0.0</td>\n",
       "      <td>0.0</td>\n",
       "    </tr>\n",
       "  </tbody>\n",
       "</table>\n",
       "</div>"
      ],
      "text/plain": [
       "                               1          2    3    4\n",
       "fixed acidity           0.097622   0.001598 -0.0 -0.0\n",
       "volatile acidity       -1.550473  -0.585135 -0.0 -0.0\n",
       "citric acid            -0.136419   0.148863  0.0  0.0\n",
       "residual sugar          0.066747   0.005687 -0.0 -0.0\n",
       "chlorides              -0.767940  -1.274221 -0.0 -0.0\n",
       "free sulfur dioxide     0.003998   0.001296  0.0  0.0\n",
       "total sulfur dioxide   -0.001057  -0.000583 -0.0 -0.0\n",
       "density              -113.045446 -22.285153 -0.0 -0.0\n",
       "pH                      0.515890   0.082972  0.0  0.0\n",
       "sulphates               0.701082   0.300782  0.0  0.0\n",
       "alcohol                 0.209972   0.136294  0.0  0.0\n",
       "type                   -0.424353   0.004296  0.0  0.0"
      ]
     },
     "execution_count": 119,
     "metadata": {},
     "output_type": "execute_result"
    }
   ],
   "source": [
    "result0['4']= lassoreg1.coef_\n",
    "result0"
   ]
  },
  {
   "cell_type": "code",
   "execution_count": 62,
   "metadata": {},
   "outputs": [
    {
     "name": "stdout",
     "output_type": "stream",
     "text": [
      "0.8709345888926285\n"
     ]
    }
   ],
   "source": [
    "Y_pred4 = lassoreg1.predict(X_test)\n",
    "print(np.sqrt(metrics.mean_squared_error(Y_test, Y_pred4)))"
   ]
  },
  {
   "cell_type": "code",
   "execution_count": 63,
   "metadata": {},
   "outputs": [
    {
     "data": {
      "text/plain": [
       "Lasso(alpha=1, copy_X=True, fit_intercept=True, max_iter=1000, normalize=True,\n",
       "   positive=False, precompute=False, random_state=None, selection='cyclic',\n",
       "   tol=0.0001, warm_start=False)"
      ]
     },
     "execution_count": 63,
     "metadata": {},
     "output_type": "execute_result"
    }
   ],
   "source": [
    "from sklearn.linear_model import Lasso\n",
    "lassoreg2 = Lasso(alpha=1, normalize=True)\n",
    "lassoreg2.fit(X_train, Y_train)"
   ]
  },
  {
   "cell_type": "code",
   "execution_count": 120,
   "metadata": {},
   "outputs": [
    {
     "data": {
      "text/html": [
       "<div>\n",
       "<style scoped>\n",
       "    .dataframe tbody tr th:only-of-type {\n",
       "        vertical-align: middle;\n",
       "    }\n",
       "\n",
       "    .dataframe tbody tr th {\n",
       "        vertical-align: top;\n",
       "    }\n",
       "\n",
       "    .dataframe thead th {\n",
       "        text-align: right;\n",
       "    }\n",
       "</style>\n",
       "<table border=\"1\" class=\"dataframe\">\n",
       "  <thead>\n",
       "    <tr style=\"text-align: right;\">\n",
       "      <th></th>\n",
       "      <th>1</th>\n",
       "      <th>2</th>\n",
       "      <th>3</th>\n",
       "      <th>4</th>\n",
       "      <th>5</th>\n",
       "    </tr>\n",
       "  </thead>\n",
       "  <tbody>\n",
       "    <tr>\n",
       "      <th>fixed acidity</th>\n",
       "      <td>0.097622</td>\n",
       "      <td>0.001598</td>\n",
       "      <td>-0.0</td>\n",
       "      <td>-0.0</td>\n",
       "      <td>-0.0</td>\n",
       "    </tr>\n",
       "    <tr>\n",
       "      <th>volatile acidity</th>\n",
       "      <td>-1.550473</td>\n",
       "      <td>-0.585135</td>\n",
       "      <td>-0.0</td>\n",
       "      <td>-0.0</td>\n",
       "      <td>-0.0</td>\n",
       "    </tr>\n",
       "    <tr>\n",
       "      <th>citric acid</th>\n",
       "      <td>-0.136419</td>\n",
       "      <td>0.148863</td>\n",
       "      <td>0.0</td>\n",
       "      <td>0.0</td>\n",
       "      <td>0.0</td>\n",
       "    </tr>\n",
       "    <tr>\n",
       "      <th>residual sugar</th>\n",
       "      <td>0.066747</td>\n",
       "      <td>0.005687</td>\n",
       "      <td>-0.0</td>\n",
       "      <td>-0.0</td>\n",
       "      <td>-0.0</td>\n",
       "    </tr>\n",
       "    <tr>\n",
       "      <th>chlorides</th>\n",
       "      <td>-0.767940</td>\n",
       "      <td>-1.274221</td>\n",
       "      <td>-0.0</td>\n",
       "      <td>-0.0</td>\n",
       "      <td>-0.0</td>\n",
       "    </tr>\n",
       "    <tr>\n",
       "      <th>free sulfur dioxide</th>\n",
       "      <td>0.003998</td>\n",
       "      <td>0.001296</td>\n",
       "      <td>0.0</td>\n",
       "      <td>0.0</td>\n",
       "      <td>0.0</td>\n",
       "    </tr>\n",
       "    <tr>\n",
       "      <th>total sulfur dioxide</th>\n",
       "      <td>-0.001057</td>\n",
       "      <td>-0.000583</td>\n",
       "      <td>-0.0</td>\n",
       "      <td>-0.0</td>\n",
       "      <td>-0.0</td>\n",
       "    </tr>\n",
       "    <tr>\n",
       "      <th>density</th>\n",
       "      <td>-113.045446</td>\n",
       "      <td>-22.285153</td>\n",
       "      <td>-0.0</td>\n",
       "      <td>-0.0</td>\n",
       "      <td>-0.0</td>\n",
       "    </tr>\n",
       "    <tr>\n",
       "      <th>pH</th>\n",
       "      <td>0.515890</td>\n",
       "      <td>0.082972</td>\n",
       "      <td>0.0</td>\n",
       "      <td>0.0</td>\n",
       "      <td>0.0</td>\n",
       "    </tr>\n",
       "    <tr>\n",
       "      <th>sulphates</th>\n",
       "      <td>0.701082</td>\n",
       "      <td>0.300782</td>\n",
       "      <td>0.0</td>\n",
       "      <td>0.0</td>\n",
       "      <td>0.0</td>\n",
       "    </tr>\n",
       "    <tr>\n",
       "      <th>alcohol</th>\n",
       "      <td>0.209972</td>\n",
       "      <td>0.136294</td>\n",
       "      <td>0.0</td>\n",
       "      <td>0.0</td>\n",
       "      <td>0.0</td>\n",
       "    </tr>\n",
       "    <tr>\n",
       "      <th>type</th>\n",
       "      <td>-0.424353</td>\n",
       "      <td>0.004296</td>\n",
       "      <td>0.0</td>\n",
       "      <td>0.0</td>\n",
       "      <td>0.0</td>\n",
       "    </tr>\n",
       "  </tbody>\n",
       "</table>\n",
       "</div>"
      ],
      "text/plain": [
       "                               1          2    3    4    5\n",
       "fixed acidity           0.097622   0.001598 -0.0 -0.0 -0.0\n",
       "volatile acidity       -1.550473  -0.585135 -0.0 -0.0 -0.0\n",
       "citric acid            -0.136419   0.148863  0.0  0.0  0.0\n",
       "residual sugar          0.066747   0.005687 -0.0 -0.0 -0.0\n",
       "chlorides              -0.767940  -1.274221 -0.0 -0.0 -0.0\n",
       "free sulfur dioxide     0.003998   0.001296  0.0  0.0  0.0\n",
       "total sulfur dioxide   -0.001057  -0.000583 -0.0 -0.0 -0.0\n",
       "density              -113.045446 -22.285153 -0.0 -0.0 -0.0\n",
       "pH                      0.515890   0.082972  0.0  0.0  0.0\n",
       "sulphates               0.701082   0.300782  0.0  0.0  0.0\n",
       "alcohol                 0.209972   0.136294  0.0  0.0  0.0\n",
       "type                   -0.424353   0.004296  0.0  0.0  0.0"
      ]
     },
     "execution_count": 120,
     "metadata": {},
     "output_type": "execute_result"
    }
   ],
   "source": [
    "result0['5']= lassoreg2.coef_\n",
    "result0\n"
   ]
  },
  {
   "cell_type": "code",
   "execution_count": 65,
   "metadata": {},
   "outputs": [
    {
     "name": "stdout",
     "output_type": "stream",
     "text": [
      "0.8709345888926285\n"
     ]
    }
   ],
   "source": [
    "Y_pred5 = lassoreg2.predict(X_test)\n",
    "print(np.sqrt(metrics.mean_squared_error(Y_test, Y_pred5)))"
   ]
  },
  {
   "cell_type": "markdown",
   "metadata": {},
   "source": [
    "Al analizar los coeficientes de esta regresión se determina que dentro de la configuración de la regresión todos los coeficientes tienen la misma importancia dentro del modelo."
   ]
  },
  {
   "cell_type": "markdown",
   "metadata": {},
   "source": [
    "# Exercise 6.9\n",
    "\n",
    "* Create a binary target\n",
    "\n",
    "* Train a logistic regression to predict wine quality (binary)\n",
    "\n",
    "* Analyze the coefficients\n",
    "\n",
    "* Evaluate the f1score"
   ]
  },
  {
   "cell_type": "code",
   "execution_count": 66,
   "metadata": {},
   "outputs": [],
   "source": [
    "dataregb=datareg"
   ]
  },
  {
   "cell_type": "code",
   "execution_count": 67,
   "metadata": {},
   "outputs": [],
   "source": [
    "dataregb['quality']= np.where(dataregb['quality']>=7,1,0)\n",
    "dataregb['quality'] = dataregb['quality'].astype(bool)"
   ]
  },
  {
   "cell_type": "code",
   "execution_count": 68,
   "metadata": {},
   "outputs": [],
   "source": [
    "Xlog=dataregb.drop('quality', axis=1)\n",
    "Ylog=dataregb['quality']"
   ]
  },
  {
   "cell_type": "code",
   "execution_count": 69,
   "metadata": {},
   "outputs": [],
   "source": [
    "from sklearn.model_selection import train_test_split\n",
    "X_tr, X_te, Y_tr, Y_te = train_test_split(Xlog, Ylog, random_state=2)"
   ]
  },
  {
   "cell_type": "code",
   "execution_count": 70,
   "metadata": {},
   "outputs": [
    {
     "data": {
      "text/plain": [
       "LogisticRegression(C=1000000000.0, class_weight=None, dual=False,\n",
       "          fit_intercept=True, intercept_scaling=1, max_iter=100,\n",
       "          multi_class='ovr', n_jobs=1, penalty='l2', random_state=None,\n",
       "          solver='liblinear', tol=0.0001, verbose=0, warm_start=False)"
      ]
     },
     "execution_count": 70,
     "metadata": {},
     "output_type": "execute_result"
    }
   ],
   "source": [
    "from sklearn.linear_model import LogisticRegression\n",
    "logic = LogisticRegression(solver='liblinear',C=1e9)\n",
    "logic.fit(X_tr, Y_tr)"
   ]
  },
  {
   "cell_type": "code",
   "execution_count": 71,
   "metadata": {},
   "outputs": [],
   "source": [
    "Y_pr = logic.predict(X_te)"
   ]
  },
  {
   "cell_type": "code",
   "execution_count": 72,
   "metadata": {},
   "outputs": [],
   "source": [
    "from sklearn.metrics import confusion_matrix"
   ]
  },
  {
   "cell_type": "code",
   "execution_count": 73,
   "metadata": {},
   "outputs": [
    {
     "data": {
      "text/html": [
       "<div>\n",
       "<style scoped>\n",
       "    .dataframe tbody tr th:only-of-type {\n",
       "        vertical-align: middle;\n",
       "    }\n",
       "\n",
       "    .dataframe tbody tr th {\n",
       "        vertical-align: top;\n",
       "    }\n",
       "\n",
       "    .dataframe thead th {\n",
       "        text-align: right;\n",
       "    }\n",
       "</style>\n",
       "<table border=\"1\" class=\"dataframe\">\n",
       "  <thead>\n",
       "    <tr style=\"text-align: right;\">\n",
       "      <th></th>\n",
       "      <th>No</th>\n",
       "      <th>Yes</th>\n",
       "    </tr>\n",
       "  </thead>\n",
       "  <tbody>\n",
       "    <tr>\n",
       "      <th>No</th>\n",
       "      <td>1245</td>\n",
       "      <td>66</td>\n",
       "    </tr>\n",
       "    <tr>\n",
       "      <th>Yes</th>\n",
       "      <td>235</td>\n",
       "      <td>79</td>\n",
       "    </tr>\n",
       "  </tbody>\n",
       "</table>\n",
       "</div>"
      ],
      "text/plain": [
       "       No  Yes\n",
       "No   1245   66\n",
       "Yes   235   79"
      ]
     },
     "execution_count": 73,
     "metadata": {},
     "output_type": "execute_result"
    }
   ],
   "source": [
    "e = confusion_matrix(Y_te,Y_pr)\n",
    "dataframe=pd.DataFrame(e, columns=['No','Yes'], index=['No','Yes']) \n",
    "dataframe"
   ]
  },
  {
   "cell_type": "code",
   "execution_count": 74,
   "metadata": {},
   "outputs": [],
   "source": [
    "from sklearn.metrics import f1_score"
   ]
  },
  {
   "cell_type": "code",
   "execution_count": 75,
   "metadata": {},
   "outputs": [
    {
     "data": {
      "text/plain": [
       "0.6181899647872207"
      ]
     },
     "execution_count": 75,
     "metadata": {},
     "output_type": "execute_result"
    }
   ],
   "source": [
    "f1_score(Y_te, Y_pr, average='macro')"
   ]
  },
  {
   "cell_type": "code",
   "execution_count": 76,
   "metadata": {},
   "outputs": [
    {
     "data": {
      "text/plain": [
       "array([[ 1.72729017e-01, -4.15602119e+00, -4.91566139e-01,\n",
       "         7.12402746e-02, -5.71325644e+00,  1.52814643e-02,\n",
       "        -5.01328776e-03, -8.09461191e+00,  9.69110363e-01,\n",
       "         2.10612101e+00,  9.49094844e-01,  1.70300811e-01]])"
      ]
     },
     "execution_count": 76,
     "metadata": {},
     "output_type": "execute_result"
    }
   ],
   "source": [
    "logic.coef_"
   ]
  },
  {
   "cell_type": "markdown",
   "metadata": {},
   "source": [
    "Al realizar la regresión logística se determina que el número de falsos positivos y de falsos negativos resulta ser muy alto, por lo cual esto me puede estar indicando que hay una gran posibilidad de overfitting\n",
    "\n",
    "Así mismo se logra apreciar que al evaluar el F1 score este nos indica que la predicción no ha sido muy acertada dado que la calificación global esta sobre el 61% "
   ]
  },
  {
   "cell_type": "markdown",
   "metadata": {},
   "source": [
    "# Exercise 6.10\n",
    "\n",
    "* Estimate a regularized logistic regression using:\n",
    "* C = 0.01, 0.1 & 1.0\n",
    "* penalty = ['l1, 'l2']\n",
    "* Compare the coefficients and the f1score"
   ]
  },
  {
   "cell_type": "code",
   "execution_count": 77,
   "metadata": {},
   "outputs": [],
   "source": [
    "Xlogn=Xlog.drop('type', axis=1)"
   ]
  },
  {
   "cell_type": "code",
   "execution_count": 78,
   "metadata": {},
   "outputs": [],
   "source": [
    "for r in Xlogn.columns:\n",
    "    Xlogn[r]=preprocessing.scale(data[r])"
   ]
  },
  {
   "cell_type": "code",
   "execution_count": 79,
   "metadata": {},
   "outputs": [],
   "source": [
    "Xlogn['type']=Xlog['type']"
   ]
  },
  {
   "cell_type": "code",
   "execution_count": 80,
   "metadata": {},
   "outputs": [
    {
     "data": {
      "text/html": [
       "<div>\n",
       "<style scoped>\n",
       "    .dataframe tbody tr th:only-of-type {\n",
       "        vertical-align: middle;\n",
       "    }\n",
       "\n",
       "    .dataframe tbody tr th {\n",
       "        vertical-align: top;\n",
       "    }\n",
       "\n",
       "    .dataframe thead th {\n",
       "        text-align: right;\n",
       "    }\n",
       "</style>\n",
       "<table border=\"1\" class=\"dataframe\">\n",
       "  <thead>\n",
       "    <tr style=\"text-align: right;\">\n",
       "      <th></th>\n",
       "      <th>fixed acidity</th>\n",
       "      <th>volatile acidity</th>\n",
       "      <th>citric acid</th>\n",
       "      <th>residual sugar</th>\n",
       "      <th>chlorides</th>\n",
       "      <th>free sulfur dioxide</th>\n",
       "      <th>total sulfur dioxide</th>\n",
       "      <th>density</th>\n",
       "      <th>pH</th>\n",
       "      <th>sulphates</th>\n",
       "      <th>alcohol</th>\n",
       "      <th>type</th>\n",
       "    </tr>\n",
       "  </thead>\n",
       "  <tbody>\n",
       "    <tr>\n",
       "      <th>0</th>\n",
       "      <td>-0.166089</td>\n",
       "      <td>-0.423183</td>\n",
       "      <td>0.284686</td>\n",
       "      <td>3.206929</td>\n",
       "      <td>-0.314975</td>\n",
       "      <td>0.815565</td>\n",
       "      <td>0.959976</td>\n",
       "      <td>2.102214</td>\n",
       "      <td>-1.359049</td>\n",
       "      <td>-0.546178</td>\n",
       "      <td>-1.418558</td>\n",
       "      <td>True</td>\n",
       "    </tr>\n",
       "    <tr>\n",
       "      <th>1</th>\n",
       "      <td>-0.706073</td>\n",
       "      <td>-0.240949</td>\n",
       "      <td>0.147046</td>\n",
       "      <td>-0.807837</td>\n",
       "      <td>-0.200790</td>\n",
       "      <td>-0.931107</td>\n",
       "      <td>0.287618</td>\n",
       "      <td>-0.232332</td>\n",
       "      <td>0.506915</td>\n",
       "      <td>-0.277351</td>\n",
       "      <td>-0.831615</td>\n",
       "      <td>True</td>\n",
       "    </tr>\n",
       "    <tr>\n",
       "      <th>2</th>\n",
       "      <td>0.682458</td>\n",
       "      <td>-0.362438</td>\n",
       "      <td>0.559966</td>\n",
       "      <td>0.306208</td>\n",
       "      <td>-0.172244</td>\n",
       "      <td>-0.029599</td>\n",
       "      <td>-0.331660</td>\n",
       "      <td>0.134525</td>\n",
       "      <td>0.258120</td>\n",
       "      <td>-0.613385</td>\n",
       "      <td>-0.328521</td>\n",
       "      <td>True</td>\n",
       "    </tr>\n",
       "    <tr>\n",
       "      <th>3</th>\n",
       "      <td>-0.011808</td>\n",
       "      <td>-0.666161</td>\n",
       "      <td>0.009406</td>\n",
       "      <td>0.642523</td>\n",
       "      <td>0.056126</td>\n",
       "      <td>0.928254</td>\n",
       "      <td>1.243074</td>\n",
       "      <td>0.301278</td>\n",
       "      <td>-0.177272</td>\n",
       "      <td>-0.882212</td>\n",
       "      <td>-0.496219</td>\n",
       "      <td>True</td>\n",
       "    </tr>\n",
       "    <tr>\n",
       "      <th>4</th>\n",
       "      <td>-0.011808</td>\n",
       "      <td>-0.666161</td>\n",
       "      <td>0.009406</td>\n",
       "      <td>0.642523</td>\n",
       "      <td>0.056126</td>\n",
       "      <td>0.928254</td>\n",
       "      <td>1.243074</td>\n",
       "      <td>0.301278</td>\n",
       "      <td>-0.177272</td>\n",
       "      <td>-0.882212</td>\n",
       "      <td>-0.496219</td>\n",
       "      <td>True</td>\n",
       "    </tr>\n",
       "    <tr>\n",
       "      <th>5</th>\n",
       "      <td>0.682458</td>\n",
       "      <td>-0.362438</td>\n",
       "      <td>0.559966</td>\n",
       "      <td>0.306208</td>\n",
       "      <td>-0.172244</td>\n",
       "      <td>-0.029599</td>\n",
       "      <td>-0.331660</td>\n",
       "      <td>0.134525</td>\n",
       "      <td>0.258120</td>\n",
       "      <td>-0.613385</td>\n",
       "      <td>-0.328521</td>\n",
       "      <td>True</td>\n",
       "    </tr>\n",
       "    <tr>\n",
       "      <th>6</th>\n",
       "      <td>-0.783214</td>\n",
       "      <td>-0.119460</td>\n",
       "      <td>-1.091713</td>\n",
       "      <td>0.327228</td>\n",
       "      <td>-0.314975</td>\n",
       "      <td>-0.029599</td>\n",
       "      <td>0.358392</td>\n",
       "      <td>0.067824</td>\n",
       "      <td>-0.239471</td>\n",
       "      <td>-0.411765</td>\n",
       "      <td>-0.747766</td>\n",
       "      <td>True</td>\n",
       "    </tr>\n",
       "    <tr>\n",
       "      <th>7</th>\n",
       "      <td>-0.166089</td>\n",
       "      <td>-0.423183</td>\n",
       "      <td>0.284686</td>\n",
       "      <td>3.206929</td>\n",
       "      <td>-0.314975</td>\n",
       "      <td>0.815565</td>\n",
       "      <td>0.959976</td>\n",
       "      <td>2.102214</td>\n",
       "      <td>-1.359049</td>\n",
       "      <td>-0.546178</td>\n",
       "      <td>-1.418558</td>\n",
       "      <td>True</td>\n",
       "    </tr>\n",
       "    <tr>\n",
       "      <th>8</th>\n",
       "      <td>-0.706073</td>\n",
       "      <td>-0.240949</td>\n",
       "      <td>0.147046</td>\n",
       "      <td>-0.807837</td>\n",
       "      <td>-0.200790</td>\n",
       "      <td>-0.931107</td>\n",
       "      <td>0.287618</td>\n",
       "      <td>-0.232332</td>\n",
       "      <td>0.506915</td>\n",
       "      <td>-0.277351</td>\n",
       "      <td>-0.831615</td>\n",
       "      <td>True</td>\n",
       "    </tr>\n",
       "    <tr>\n",
       "      <th>9</th>\n",
       "      <td>0.682458</td>\n",
       "      <td>-0.726906</td>\n",
       "      <td>0.766426</td>\n",
       "      <td>-0.828857</td>\n",
       "      <td>-0.343521</td>\n",
       "      <td>-0.142287</td>\n",
       "      <td>0.234537</td>\n",
       "      <td>-0.299033</td>\n",
       "      <td>0.009325</td>\n",
       "      <td>-0.546178</td>\n",
       "      <td>0.426120</td>\n",
       "      <td>True</td>\n",
       "    </tr>\n",
       "  </tbody>\n",
       "</table>\n",
       "</div>"
      ],
      "text/plain": [
       "   fixed acidity  volatile acidity  citric acid  residual sugar  chlorides  \\\n",
       "0      -0.166089         -0.423183     0.284686        3.206929  -0.314975   \n",
       "1      -0.706073         -0.240949     0.147046       -0.807837  -0.200790   \n",
       "2       0.682458         -0.362438     0.559966        0.306208  -0.172244   \n",
       "3      -0.011808         -0.666161     0.009406        0.642523   0.056126   \n",
       "4      -0.011808         -0.666161     0.009406        0.642523   0.056126   \n",
       "5       0.682458         -0.362438     0.559966        0.306208  -0.172244   \n",
       "6      -0.783214         -0.119460    -1.091713        0.327228  -0.314975   \n",
       "7      -0.166089         -0.423183     0.284686        3.206929  -0.314975   \n",
       "8      -0.706073         -0.240949     0.147046       -0.807837  -0.200790   \n",
       "9       0.682458         -0.726906     0.766426       -0.828857  -0.343521   \n",
       "\n",
       "   free sulfur dioxide  total sulfur dioxide   density        pH  sulphates  \\\n",
       "0             0.815565              0.959976  2.102214 -1.359049  -0.546178   \n",
       "1            -0.931107              0.287618 -0.232332  0.506915  -0.277351   \n",
       "2            -0.029599             -0.331660  0.134525  0.258120  -0.613385   \n",
       "3             0.928254              1.243074  0.301278 -0.177272  -0.882212   \n",
       "4             0.928254              1.243074  0.301278 -0.177272  -0.882212   \n",
       "5            -0.029599             -0.331660  0.134525  0.258120  -0.613385   \n",
       "6            -0.029599              0.358392  0.067824 -0.239471  -0.411765   \n",
       "7             0.815565              0.959976  2.102214 -1.359049  -0.546178   \n",
       "8            -0.931107              0.287618 -0.232332  0.506915  -0.277351   \n",
       "9            -0.142287              0.234537 -0.299033  0.009325  -0.546178   \n",
       "\n",
       "    alcohol  type  \n",
       "0 -1.418558  True  \n",
       "1 -0.831615  True  \n",
       "2 -0.328521  True  \n",
       "3 -0.496219  True  \n",
       "4 -0.496219  True  \n",
       "5 -0.328521  True  \n",
       "6 -0.747766  True  \n",
       "7 -1.418558  True  \n",
       "8 -0.831615  True  \n",
       "9  0.426120  True  "
      ]
     },
     "execution_count": 80,
     "metadata": {},
     "output_type": "execute_result"
    }
   ],
   "source": [
    "Xlogn.head(10)"
   ]
  },
  {
   "cell_type": "code",
   "execution_count": 81,
   "metadata": {},
   "outputs": [],
   "source": [
    "X_tr0, X_te0, Y_tr0, Y_te0 = train_test_split(Xlogn, Ylog, random_state=2)"
   ]
  },
  {
   "cell_type": "code",
   "execution_count": 82,
   "metadata": {},
   "outputs": [],
   "source": [
    "C_r = pd.DataFrame([0.01, 0.1, 1.0], columns=['cr'],index=['0.01', '0.1', '1.0'])\n",
    "penalty = pd.DataFrame(['l1', 'l2'],columns=['p'],index=['l1', 'l2'])"
   ]
  },
  {
   "cell_type": "code",
   "execution_count": 83,
   "metadata": {},
   "outputs": [],
   "source": [
    "resu = pd.DataFrame(columns=['l1', 'l2'],index=['0.01', '0.1', '1.0'])"
   ]
  },
  {
   "cell_type": "code",
   "execution_count": 84,
   "metadata": {
    "scrolled": true
   },
   "outputs": [
    {
     "data": {
      "text/html": [
       "<div>\n",
       "<style scoped>\n",
       "    .dataframe tbody tr th:only-of-type {\n",
       "        vertical-align: middle;\n",
       "    }\n",
       "\n",
       "    .dataframe tbody tr th {\n",
       "        vertical-align: top;\n",
       "    }\n",
       "\n",
       "    .dataframe thead th {\n",
       "        text-align: right;\n",
       "    }\n",
       "</style>\n",
       "<table border=\"1\" class=\"dataframe\">\n",
       "  <thead>\n",
       "    <tr style=\"text-align: right;\">\n",
       "      <th></th>\n",
       "      <th>l1</th>\n",
       "      <th>l2</th>\n",
       "    </tr>\n",
       "  </thead>\n",
       "  <tbody>\n",
       "    <tr>\n",
       "      <th>0.01</th>\n",
       "      <td>0.587446</td>\n",
       "      <td>0.611537</td>\n",
       "    </tr>\n",
       "    <tr>\n",
       "      <th>0.1</th>\n",
       "      <td>0.620496</td>\n",
       "      <td>0.623847</td>\n",
       "    </tr>\n",
       "    <tr>\n",
       "      <th>1.0</th>\n",
       "      <td>0.631748</td>\n",
       "      <td>0.634253</td>\n",
       "    </tr>\n",
       "  </tbody>\n",
       "</table>\n",
       "</div>"
      ],
      "text/plain": [
       "            l1        l2\n",
       "0.01  0.587446  0.611537\n",
       "0.1   0.620496  0.623847\n",
       "1.0   0.631748  0.634253"
      ]
     },
     "execution_count": 84,
     "metadata": {},
     "output_type": "execute_result"
    }
   ],
   "source": [
    "for C in C_r['cr'].iteritems():\n",
    "    for P in penalty['p'].iteritems():\n",
    "        for i in range(12):\n",
    "            logic0 = LogisticRegression(solver='liblinear', C=C[1],penalty=P[1])\n",
    "            logic0.fit(X_tr0, Y_tr0)\n",
    "            Y_pr0 = logic0.predict(X_te0)\n",
    "            resu[P[0]][C[0]]=f1_score(Y_te0, Y_pr0, average='macro')\n",
    "resu"
   ]
  },
  {
   "cell_type": "code",
   "execution_count": 85,
   "metadata": {},
   "outputs": [
    {
     "data": {
      "text/plain": [
       "LogisticRegression(C=0.01, class_weight=None, dual=False, fit_intercept=True,\n",
       "          intercept_scaling=1, max_iter=100, multi_class='ovr', n_jobs=1,\n",
       "          penalty='l1', random_state=None, solver='liblinear', tol=0.0001,\n",
       "          verbose=0, warm_start=False)"
      ]
     },
     "execution_count": 85,
     "metadata": {},
     "output_type": "execute_result"
    }
   ],
   "source": [
    "logic1 = LogisticRegression(solver='liblinear', C=0.01,penalty='l1')\n",
    "logic1.fit(X_tr0, Y_tr0)"
   ]
  },
  {
   "cell_type": "code",
   "execution_count": 86,
   "metadata": {},
   "outputs": [
    {
     "data": {
      "text/plain": [
       "LogisticRegression(C=0.1, class_weight=None, dual=False, fit_intercept=True,\n",
       "          intercept_scaling=1, max_iter=100, multi_class='ovr', n_jobs=1,\n",
       "          penalty='l1', random_state=None, solver='liblinear', tol=0.0001,\n",
       "          verbose=0, warm_start=False)"
      ]
     },
     "execution_count": 86,
     "metadata": {},
     "output_type": "execute_result"
    }
   ],
   "source": [
    "logic2 = LogisticRegression(solver='liblinear', C=0.1,penalty='l1')\n",
    "logic2.fit(X_tr0, Y_tr0)"
   ]
  },
  {
   "cell_type": "code",
   "execution_count": 87,
   "metadata": {},
   "outputs": [
    {
     "data": {
      "text/plain": [
       "LogisticRegression(C=1, class_weight=None, dual=False, fit_intercept=True,\n",
       "          intercept_scaling=1, max_iter=100, multi_class='ovr', n_jobs=1,\n",
       "          penalty='l1', random_state=None, solver='liblinear', tol=0.0001,\n",
       "          verbose=0, warm_start=False)"
      ]
     },
     "execution_count": 87,
     "metadata": {},
     "output_type": "execute_result"
    }
   ],
   "source": [
    "logic3 = LogisticRegression(solver='liblinear', C=1,penalty='l1')\n",
    "logic3.fit(X_tr0, Y_tr0)"
   ]
  },
  {
   "cell_type": "code",
   "execution_count": 89,
   "metadata": {},
   "outputs": [
    {
     "data": {
      "text/plain": [
       "LogisticRegression(C=0.01, class_weight=None, dual=False, fit_intercept=True,\n",
       "          intercept_scaling=1, max_iter=100, multi_class='ovr', n_jobs=1,\n",
       "          penalty='l2', random_state=None, solver='liblinear', tol=0.0001,\n",
       "          verbose=0, warm_start=False)"
      ]
     },
     "execution_count": 89,
     "metadata": {},
     "output_type": "execute_result"
    }
   ],
   "source": [
    "logic4 = LogisticRegression(solver='liblinear', C=0.01,penalty='l2')\n",
    "logic4.fit(X_tr0, Y_tr0)"
   ]
  },
  {
   "cell_type": "code",
   "execution_count": 90,
   "metadata": {},
   "outputs": [
    {
     "data": {
      "text/plain": [
       "LogisticRegression(C=0.1, class_weight=None, dual=False, fit_intercept=True,\n",
       "          intercept_scaling=1, max_iter=100, multi_class='ovr', n_jobs=1,\n",
       "          penalty='l2', random_state=None, solver='liblinear', tol=0.0001,\n",
       "          verbose=0, warm_start=False)"
      ]
     },
     "execution_count": 90,
     "metadata": {},
     "output_type": "execute_result"
    }
   ],
   "source": [
    "logic5 = LogisticRegression(solver='liblinear', C=0.1,penalty='l2')\n",
    "logic5.fit(X_tr0, Y_tr0)"
   ]
  },
  {
   "cell_type": "code",
   "execution_count": 91,
   "metadata": {},
   "outputs": [
    {
     "data": {
      "text/plain": [
       "LogisticRegression(C=1, class_weight=None, dual=False, fit_intercept=True,\n",
       "          intercept_scaling=1, max_iter=100, multi_class='ovr', n_jobs=1,\n",
       "          penalty='l2', random_state=None, solver='liblinear', tol=0.0001,\n",
       "          verbose=0, warm_start=False)"
      ]
     },
     "execution_count": 91,
     "metadata": {},
     "output_type": "execute_result"
    }
   ],
   "source": [
    "logic6 = LogisticRegression(solver='liblinear', C=1,penalty='l2')\n",
    "logic6.fit(X_tr0, Y_tr0)"
   ]
  },
  {
   "cell_type": "code",
   "execution_count": 92,
   "metadata": {},
   "outputs": [
    {
     "data": {
      "text/html": [
       "<div>\n",
       "<style scoped>\n",
       "    .dataframe tbody tr th:only-of-type {\n",
       "        vertical-align: middle;\n",
       "    }\n",
       "\n",
       "    .dataframe tbody tr th {\n",
       "        vertical-align: top;\n",
       "    }\n",
       "\n",
       "    .dataframe thead th {\n",
       "        text-align: right;\n",
       "    }\n",
       "</style>\n",
       "<table border=\"1\" class=\"dataframe\">\n",
       "  <thead>\n",
       "    <tr style=\"text-align: right;\">\n",
       "      <th></th>\n",
       "      <th>fixed acidity</th>\n",
       "      <th>volatile acidity</th>\n",
       "      <th>citric acid</th>\n",
       "      <th>residual sugar</th>\n",
       "      <th>chlorides</th>\n",
       "      <th>free sulfur dioxide</th>\n",
       "      <th>total sulfur dioxide</th>\n",
       "      <th>density</th>\n",
       "      <th>pH</th>\n",
       "      <th>sulphates</th>\n",
       "      <th>alcohol</th>\n",
       "      <th>type</th>\n",
       "    </tr>\n",
       "  </thead>\n",
       "  <tbody>\n",
       "    <tr>\n",
       "      <th>1</th>\n",
       "      <td>0.0</td>\n",
       "      <td>-0.297371</td>\n",
       "      <td>0.0</td>\n",
       "      <td>0.0</td>\n",
       "      <td>0.0</td>\n",
       "      <td>0.0</td>\n",
       "      <td>0.0</td>\n",
       "      <td>0.0</td>\n",
       "      <td>0.0</td>\n",
       "      <td>0.052903</td>\n",
       "      <td>0.786971</td>\n",
       "      <td>0.0</td>\n",
       "    </tr>\n",
       "  </tbody>\n",
       "</table>\n",
       "</div>"
      ],
      "text/plain": [
       "   fixed acidity  volatile acidity  citric acid  residual sugar  chlorides  \\\n",
       "1            0.0         -0.297371          0.0             0.0        0.0   \n",
       "\n",
       "   free sulfur dioxide  total sulfur dioxide  density   pH  sulphates  \\\n",
       "1                  0.0                   0.0      0.0  0.0   0.052903   \n",
       "\n",
       "    alcohol  type  \n",
       "1  0.786971   0.0  "
      ]
     },
     "execution_count": 92,
     "metadata": {},
     "output_type": "execute_result"
    }
   ],
   "source": [
    "Vars=np.array(list(X_tr0))\n",
    "coeficientes=logic1.coef_\n",
    "result=pd.DataFrame(coeficientes, columns=Vars, index = [1])\n",
    "result"
   ]
  },
  {
   "cell_type": "code",
   "execution_count": 93,
   "metadata": {},
   "outputs": [],
   "source": [
    "coef2 = pd.DataFrame(logic2.coef_,columns=Vars, index=[2])\n",
    "result = pd.concat([result, coef2], axis=0)"
   ]
  },
  {
   "cell_type": "code",
   "execution_count": 94,
   "metadata": {},
   "outputs": [],
   "source": [
    "coef3 = pd.DataFrame(logic3.coef_,columns=Vars, index=[3])\n",
    "result = pd.concat([result, coef3], axis=0)"
   ]
  },
  {
   "cell_type": "code",
   "execution_count": 95,
   "metadata": {},
   "outputs": [],
   "source": [
    "coef4 = pd.DataFrame(logic4.coef_,columns=Vars, index=[4])\n",
    "result = pd.concat([result, coef4], axis=0)"
   ]
  },
  {
   "cell_type": "code",
   "execution_count": 96,
   "metadata": {},
   "outputs": [],
   "source": [
    "coef5 = pd.DataFrame(logic5.coef_,columns=Vars, index=[5])\n",
    "result = pd.concat([result, coef5], axis=0)"
   ]
  },
  {
   "cell_type": "code",
   "execution_count": 97,
   "metadata": {},
   "outputs": [],
   "source": [
    "coef6 = pd.DataFrame(logic6.coef_,columns=Vars, index=[6])\n",
    "result = pd.concat([result, coef6], axis=0)"
   ]
  },
  {
   "cell_type": "code",
   "execution_count": 98,
   "metadata": {},
   "outputs": [
    {
     "data": {
      "text/html": [
       "<div>\n",
       "<style scoped>\n",
       "    .dataframe tbody tr th:only-of-type {\n",
       "        vertical-align: middle;\n",
       "    }\n",
       "\n",
       "    .dataframe tbody tr th {\n",
       "        vertical-align: top;\n",
       "    }\n",
       "\n",
       "    .dataframe thead th {\n",
       "        text-align: right;\n",
       "    }\n",
       "</style>\n",
       "<table border=\"1\" class=\"dataframe\">\n",
       "  <thead>\n",
       "    <tr style=\"text-align: right;\">\n",
       "      <th></th>\n",
       "      <th>fixed acidity</th>\n",
       "      <th>volatile acidity</th>\n",
       "      <th>citric acid</th>\n",
       "      <th>residual sugar</th>\n",
       "      <th>chlorides</th>\n",
       "      <th>free sulfur dioxide</th>\n",
       "      <th>total sulfur dioxide</th>\n",
       "      <th>density</th>\n",
       "      <th>pH</th>\n",
       "      <th>sulphates</th>\n",
       "      <th>alcohol</th>\n",
       "      <th>type</th>\n",
       "    </tr>\n",
       "  </thead>\n",
       "  <tbody>\n",
       "    <tr>\n",
       "      <th>1</th>\n",
       "      <td>0.000000</td>\n",
       "      <td>-0.297371</td>\n",
       "      <td>0.000000</td>\n",
       "      <td>0.000000</td>\n",
       "      <td>0.000000</td>\n",
       "      <td>0.000000</td>\n",
       "      <td>0.000000</td>\n",
       "      <td>0.000000</td>\n",
       "      <td>0.000000</td>\n",
       "      <td>0.052903</td>\n",
       "      <td>0.786971</td>\n",
       "      <td>0.000000</td>\n",
       "    </tr>\n",
       "    <tr>\n",
       "      <th>2</th>\n",
       "      <td>0.265388</td>\n",
       "      <td>-0.570453</td>\n",
       "      <td>0.000000</td>\n",
       "      <td>0.502392</td>\n",
       "      <td>-0.196496</td>\n",
       "      <td>0.195091</td>\n",
       "      <td>-0.187168</td>\n",
       "      <td>-0.404482</td>\n",
       "      <td>0.162556</td>\n",
       "      <td>0.310096</td>\n",
       "      <td>0.889422</td>\n",
       "      <td>-0.225967</td>\n",
       "    </tr>\n",
       "    <tr>\n",
       "      <th>3</th>\n",
       "      <td>0.584330</td>\n",
       "      <td>-0.616696</td>\n",
       "      <td>-0.028748</td>\n",
       "      <td>0.994813</td>\n",
       "      <td>-0.223328</td>\n",
       "      <td>0.223154</td>\n",
       "      <td>-0.196622</td>\n",
       "      <td>-1.148595</td>\n",
       "      <td>0.343220</td>\n",
       "      <td>0.379102</td>\n",
       "      <td>0.614331</td>\n",
       "      <td>-0.799321</td>\n",
       "    </tr>\n",
       "    <tr>\n",
       "      <th>4</th>\n",
       "      <td>0.122263</td>\n",
       "      <td>-0.421296</td>\n",
       "      <td>0.044410</td>\n",
       "      <td>0.333240</td>\n",
       "      <td>-0.236277</td>\n",
       "      <td>0.161084</td>\n",
       "      <td>-0.089877</td>\n",
       "      <td>-0.353450</td>\n",
       "      <td>0.077412</td>\n",
       "      <td>0.217325</td>\n",
       "      <td>0.685220</td>\n",
       "      <td>-0.641674</td>\n",
       "    </tr>\n",
       "    <tr>\n",
       "      <th>5</th>\n",
       "      <td>0.420029</td>\n",
       "      <td>-0.601010</td>\n",
       "      <td>-0.018776</td>\n",
       "      <td>0.751439</td>\n",
       "      <td>-0.261502</td>\n",
       "      <td>0.221224</td>\n",
       "      <td>-0.184218</td>\n",
       "      <td>-0.790978</td>\n",
       "      <td>0.248221</td>\n",
       "      <td>0.336267</td>\n",
       "      <td>0.727386</td>\n",
       "      <td>-0.692034</td>\n",
       "    </tr>\n",
       "    <tr>\n",
       "      <th>6</th>\n",
       "      <td>0.589207</td>\n",
       "      <td>-0.620818</td>\n",
       "      <td>-0.032354</td>\n",
       "      <td>1.000439</td>\n",
       "      <td>-0.231897</td>\n",
       "      <td>0.227095</td>\n",
       "      <td>-0.199209</td>\n",
       "      <td>-1.155098</td>\n",
       "      <td>0.345558</td>\n",
       "      <td>0.380022</td>\n",
       "      <td>0.612143</td>\n",
       "      <td>-0.818632</td>\n",
       "    </tr>\n",
       "  </tbody>\n",
       "</table>\n",
       "</div>"
      ],
      "text/plain": [
       "   fixed acidity  volatile acidity  citric acid  residual sugar  chlorides  \\\n",
       "1       0.000000         -0.297371     0.000000        0.000000   0.000000   \n",
       "2       0.265388         -0.570453     0.000000        0.502392  -0.196496   \n",
       "3       0.584330         -0.616696    -0.028748        0.994813  -0.223328   \n",
       "4       0.122263         -0.421296     0.044410        0.333240  -0.236277   \n",
       "5       0.420029         -0.601010    -0.018776        0.751439  -0.261502   \n",
       "6       0.589207         -0.620818    -0.032354        1.000439  -0.231897   \n",
       "\n",
       "   free sulfur dioxide  total sulfur dioxide   density        pH  sulphates  \\\n",
       "1             0.000000              0.000000  0.000000  0.000000   0.052903   \n",
       "2             0.195091             -0.187168 -0.404482  0.162556   0.310096   \n",
       "3             0.223154             -0.196622 -1.148595  0.343220   0.379102   \n",
       "4             0.161084             -0.089877 -0.353450  0.077412   0.217325   \n",
       "5             0.221224             -0.184218 -0.790978  0.248221   0.336267   \n",
       "6             0.227095             -0.199209 -1.155098  0.345558   0.380022   \n",
       "\n",
       "    alcohol      type  \n",
       "1  0.786971  0.000000  \n",
       "2  0.889422 -0.225967  \n",
       "3  0.614331 -0.799321  \n",
       "4  0.685220 -0.641674  \n",
       "5  0.727386 -0.692034  \n",
       "6  0.612143 -0.818632  "
      ]
     },
     "execution_count": 98,
     "metadata": {},
     "output_type": "execute_result"
    }
   ],
   "source": [
    "result"
   ]
  },
  {
   "cell_type": "code",
   "execution_count": 121,
   "metadata": {},
   "outputs": [
    {
     "data": {
      "text/html": [
       "<div>\n",
       "<style scoped>\n",
       "    .dataframe tbody tr th:only-of-type {\n",
       "        vertical-align: middle;\n",
       "    }\n",
       "\n",
       "    .dataframe tbody tr th {\n",
       "        vertical-align: top;\n",
       "    }\n",
       "\n",
       "    .dataframe thead th {\n",
       "        text-align: right;\n",
       "    }\n",
       "</style>\n",
       "<table border=\"1\" class=\"dataframe\">\n",
       "  <thead>\n",
       "    <tr style=\"text-align: right;\">\n",
       "      <th></th>\n",
       "      <th>l1</th>\n",
       "      <th>l2</th>\n",
       "    </tr>\n",
       "  </thead>\n",
       "  <tbody>\n",
       "    <tr>\n",
       "      <th>0.01</th>\n",
       "      <td>0.587446</td>\n",
       "      <td>0.611537</td>\n",
       "    </tr>\n",
       "    <tr>\n",
       "      <th>0.1</th>\n",
       "      <td>0.620496</td>\n",
       "      <td>0.623847</td>\n",
       "    </tr>\n",
       "    <tr>\n",
       "      <th>1.0</th>\n",
       "      <td>0.631748</td>\n",
       "      <td>0.634253</td>\n",
       "    </tr>\n",
       "  </tbody>\n",
       "</table>\n",
       "</div>"
      ],
      "text/plain": [
       "            l1        l2\n",
       "0.01  0.587446  0.611537\n",
       "0.1   0.620496  0.623847\n",
       "1.0   0.631748  0.634253"
      ]
     },
     "execution_count": 121,
     "metadata": {},
     "output_type": "execute_result"
    }
   ],
   "source": [
    "resu"
   ]
  },
  {
   "cell_type": "markdown",
   "metadata": {},
   "source": [
    "Se logra determinar que al modificar los parámetros el nivel de penalidad y el C determinan el número de variables que el modelo deja tomar como relevantes entre más se acercan a L2 y C =1 se empieza a categorizar muchas más variables como variables relevantes hasta que alcanza la configuración de una regresión logística convencional "
   ]
  }
 ],
 "metadata": {
  "kernelspec": {
   "display_name": "Python 3",
   "language": "python",
   "name": "python3"
  },
  "language_info": {
   "codemirror_mode": {
    "name": "ipython",
    "version": 3
   },
   "file_extension": ".py",
   "mimetype": "text/x-python",
   "name": "python",
   "nbconvert_exporter": "python",
   "pygments_lexer": "ipython3",
   "version": "3.6.5"
  }
 },
 "nbformat": 4,
 "nbformat_minor": 1
}
